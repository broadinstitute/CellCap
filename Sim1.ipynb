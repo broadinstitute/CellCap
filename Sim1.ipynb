{
 "cells": [
  {
   "cell_type": "markdown",
   "id": "31ae92ab",
   "metadata": {},
   "source": [
    "# Run data from simulation 1 and make validation plots"
   ]
  },
  {
   "cell_type": "markdown",
   "id": "e52fc8f8",
   "metadata": {},
   "source": [
    "Stephen Fleming\n",
    "\n",
    "2023.06.27"
   ]
  },
  {
   "cell_type": "markdown",
   "id": "ccd27595",
   "metadata": {},
   "source": [
    "Small test using a tiny simulation"
   ]
  },
  {
   "cell_type": "code",
   "execution_count": null,
   "id": "fec16ed9-f51e-430e-b738-abd414f3f53d",
   "metadata": {},
   "outputs": [],
   "source": [
    "import scanpy as sc\n",
    "import numpy as np\n",
    "import pandas as pd\n",
    "import scvi\n",
    "\n",
    "import seaborn as sns\n",
    "import matplotlib.pyplot as plt\n",
    "%matplotlib inline"
   ]
  },
  {
   "cell_type": "code",
   "execution_count": null,
   "id": "7633cade-39e9-4460-9461-5ef0c43263e3",
   "metadata": {},
   "outputs": [],
   "source": [
    "from cellcap.scvi_module import CellCap\n",
    "from cellcap.validation.plot import plot_adversarial_classifier_roc, plot_ard_parameters, plot_program_usage"
   ]
  },
  {
   "cell_type": "code",
   "execution_count": null,
   "id": "1145e70a",
   "metadata": {},
   "outputs": [],
   "source": [
    "sc.set_figure_params(scanpy=True, vector_friendly=True)"
   ]
  },
  {
   "cell_type": "code",
   "execution_count": null,
   "id": "7e01d311",
   "metadata": {},
   "outputs": [],
   "source": [
    "import torch\n",
    "torch.cuda.is_available()"
   ]
  },
  {
   "cell_type": "markdown",
   "id": "74bd48f2",
   "metadata": {},
   "source": [
    "# Data"
   ]
  },
  {
   "cell_type": "code",
   "execution_count": null,
   "id": "cb01112c",
   "metadata": {},
   "outputs": [],
   "source": [
    "adata = sc.read_h5ad('data/simulation_data1.h5ad')\n",
    "adata.layers['counts'] = adata.X.copy()\n",
    "adata"
   ]
  },
  {
   "cell_type": "code",
   "execution_count": null,
   "id": "ed4c0ea1",
   "metadata": {},
   "outputs": [],
   "source": [
    "adata.obs.head()"
   ]
  },
  {
   "cell_type": "code",
   "execution_count": null,
   "id": "51cc76a2",
   "metadata": {},
   "outputs": [],
   "source": [
    "perturbation_key = 'Condition'"
   ]
  },
  {
   "cell_type": "markdown",
   "id": "21f65661",
   "metadata": {},
   "source": [
    "## Exploration"
   ]
  },
  {
   "cell_type": "code",
   "execution_count": null,
   "id": "57d9ac80",
   "metadata": {},
   "outputs": [],
   "source": [
    "pd.crosstab(adata.obs[perturbation_key], adata.obs['batch'], dropna=False, margins=True)"
   ]
  },
  {
   "cell_type": "code",
   "execution_count": null,
   "id": "cee4a63f",
   "metadata": {},
   "outputs": [],
   "source": [
    "pd.crosstab(adata.obs[perturbation_key], adata.obs['State'], dropna=False, margins=True)"
   ]
  },
  {
   "cell_type": "markdown",
   "id": "d61b62c6",
   "metadata": {},
   "source": [
    "# Model"
   ]
  },
  {
   "cell_type": "markdown",
   "id": "90812b28",
   "metadata": {},
   "source": [
    "## Setup"
   ]
  },
  {
   "cell_type": "code",
   "execution_count": null,
   "id": "f296f248",
   "metadata": {},
   "outputs": [],
   "source": [
    "# limit to control cells for testing purposes\n",
    "\n",
    "adata = adata[adata.obs[perturbation_key] == 'Control'].copy()\n",
    "adata"
   ]
  },
  {
   "cell_type": "code",
   "execution_count": null,
   "id": "572544e7",
   "metadata": {},
   "outputs": [],
   "source": [
    "# for now we are using adata.obsm slots\n",
    "\n",
    "assert 'control' in adata.obs[perturbation_key].str.lower().values, \\\n",
    "    f'adata.obs[\"{perturbation_key}\"] does not contain \"control\" or \"Control\" '\n",
    "\n",
    "adata.obsm['X_donor'] = pd.get_dummies(adata.obs['State']).to_numpy().astype(float)\n",
    "adata.obsm['X_target'] = pd.get_dummies(\n",
    "    (adata.obs[perturbation_key]\n",
    "     .str.lower()\n",
    "     .replace(to_replace='control', value=np.nan))\n",
    ").to_numpy().astype(float)\n",
    "\n",
    "adata"
   ]
  },
  {
   "cell_type": "code",
   "execution_count": null,
   "id": "b092f2cc",
   "metadata": {},
   "outputs": [],
   "source": [
    "adata.obsm['X_target'].sum(axis=0)"
   ]
  },
  {
   "cell_type": "code",
   "execution_count": null,
   "id": "1a8a872f",
   "metadata": {},
   "outputs": [],
   "source": [
    "adata.obs[perturbation_key].value_counts()"
   ]
  },
  {
   "cell_type": "code",
   "execution_count": null,
   "id": "1df0075b",
   "metadata": {},
   "outputs": [],
   "source": [
    "CellCap.setup_anndata(adata, layer='counts', target_key='X_target', donor_key='X_donor')"
   ]
  },
  {
   "cell_type": "code",
   "execution_count": null,
   "id": "ef95ebad",
   "metadata": {},
   "outputs": [],
   "source": [
    "n_response_programs = 15\n",
    "\n",
    "cellcap = CellCap(\n",
    "    adata, \n",
    "    n_latent=20,  # 20, \n",
    "    n_layers=3,  # 3,\n",
    "    n_drug=adata.obs[perturbation_key].nunique() - 1, \n",
    "    n_donor=adata.obs['State'].nunique(), \n",
    "    gene_likelihood='nb', \n",
    "    n_prog=n_response_programs,\n",
    ")"
   ]
  },
  {
   "cell_type": "markdown",
   "id": "d62de9b4",
   "metadata": {},
   "source": [
    "## Train"
   ]
  },
  {
   "cell_type": "code",
   "execution_count": null,
   "id": "86d17693",
   "metadata": {},
   "outputs": [],
   "source": [
    "scvi.settings.seed = 0"
   ]
  },
  {
   "cell_type": "code",
   "execution_count": null,
   "id": "cfd794f3",
   "metadata": {
    "scrolled": true
   },
   "outputs": [],
   "source": [
    "cellcap.train(max_epochs=1000, batch_size=256, use_gpu=True, early_stopping=True)"
   ]
  },
  {
   "cell_type": "code",
   "execution_count": null,
   "id": "daad108f",
   "metadata": {},
   "outputs": [],
   "source": [
    "cellcap.history.keys()"
   ]
  },
  {
   "cell_type": "code",
   "execution_count": null,
   "id": "a56ece18",
   "metadata": {},
   "outputs": [],
   "source": [
    "pd.concat([cellcap.history[k] for k in cellcap.history.keys() \n",
    "           if (k.startswith('b_q_') and k.endswith('_train'))]).plot()\n",
    "plt.ylabel('Laplace scale parameter')\n",
    "plt.ylim([0, 1])\n",
    "plt.legend(loc='center left', bbox_to_anchor=(1, 0.5))\n",
    "plt.show()"
   ]
  },
  {
   "cell_type": "code",
   "execution_count": null,
   "id": "477a4bbb",
   "metadata": {},
   "outputs": [],
   "source": [
    "pd.concat([cellcap.history[k] \n",
    "           for k in ['train_loss_epoch', 'validation_loss', 'adv_loss_validation']\n",
    "           if k in cellcap.history.keys()]).plot()\n",
    "plt.ylabel('loss')\n",
    "plt.ylim([0, np.quantile(cellcap.history['train_loss_epoch'], q=0.9) * 1.25])\n",
    "plt.show()"
   ]
  },
  {
   "cell_type": "markdown",
   "id": "7a2ca746",
   "metadata": {},
   "source": [
    "# Output exploration"
   ]
  },
  {
   "cell_type": "markdown",
   "id": "d70db12f-4c77-4ca7-b48e-9865f791e041",
   "metadata": {},
   "source": [
    "Get latent vector and visualization"
   ]
  },
  {
   "cell_type": "code",
   "execution_count": null,
   "id": "5f7a2de2-2316-4b8c-929c-1df99b2b83ba",
   "metadata": {},
   "outputs": [],
   "source": [
    "import gc\n",
    "gc.collect()"
   ]
  },
  {
   "cell_type": "markdown",
   "id": "d3fec43f",
   "metadata": {},
   "source": [
    "## Program usage"
   ]
  },
  {
   "cell_type": "code",
   "execution_count": null,
   "id": "9652b9b6",
   "metadata": {},
   "outputs": [],
   "source": [
    "# how much is each program used by each perturbation?\n",
    "\n",
    "df_usage = plot_program_usage(\n",
    "    cellcap=cellcap,\n",
    "    adata=adata,\n",
    "    perturbation_key=perturbation_key,\n",
    ")"
   ]
  },
  {
   "cell_type": "code",
   "execution_count": null,
   "id": "6ec68046",
   "metadata": {},
   "outputs": [],
   "source": [
    "# which programs does ARD \"turn off\"?\n",
    "\n",
    "df_ard = plot_ard_parameters(\n",
    "    cellcap=cellcap,\n",
    "    adata=adata,\n",
    "    perturbation_key=perturbation_key,\n",
    ")"
   ]
  },
  {
   "cell_type": "code",
   "execution_count": null,
   "id": "48b31c88",
   "metadata": {},
   "outputs": [],
   "source": [
    "df_ard"
   ]
  },
  {
   "cell_type": "markdown",
   "id": "ea3146df",
   "metadata": {},
   "source": [
    "## Basal cell state"
   ]
  },
  {
   "cell_type": "code",
   "execution_count": null,
   "id": "0ad75b34-8aea-4af1-b4c5-17b7a9769b1a",
   "metadata": {},
   "outputs": [],
   "source": [
    "z = cellcap.get_latent_embedding(adata)\n",
    "z.shape"
   ]
  },
  {
   "cell_type": "code",
   "execution_count": null,
   "id": "1ca4efac-2176-45c7-9bc8-90dec8d21fdf",
   "metadata": {},
   "outputs": [],
   "source": [
    "adata.obsm['X_basal'] = z"
   ]
  },
  {
   "cell_type": "markdown",
   "id": "cf618480",
   "metadata": {},
   "source": [
    "### Classifier accuracy"
   ]
  },
  {
   "cell_type": "markdown",
   "id": "7c01cbbe",
   "metadata": {},
   "source": [
    "Want a classifier that uses the basal state to predict perturbation to be very poor."
   ]
  },
  {
   "cell_type": "code",
   "execution_count": null,
   "id": "19adbc1b",
   "metadata": {},
   "outputs": [],
   "source": [
    "plot_adversarial_classifier_roc(\n",
    "    adata=adata,\n",
    "    perturbation_key=perturbation_key,\n",
    ")"
   ]
  },
  {
   "cell_type": "markdown",
   "id": "3a47591f",
   "metadata": {},
   "source": [
    "### UMAP"
   ]
  },
  {
   "cell_type": "code",
   "execution_count": null,
   "id": "a6611eaa",
   "metadata": {},
   "outputs": [],
   "source": [
    "sc.pp.neighbors(adata, n_neighbors=15, use_rep='X_basal', random_state=0, metric='cosine', method='umap')\n",
    "sc.tl.umap(adata, min_dist=0.15)"
   ]
  },
  {
   "cell_type": "code",
   "execution_count": null,
   "id": "c246f072",
   "metadata": {},
   "outputs": [],
   "source": [
    "sc.pl.umap(adata, color='Condition', title='', legend_fontsize=7.5)"
   ]
  },
  {
   "cell_type": "code",
   "execution_count": null,
   "id": "441a5b0f",
   "metadata": {
    "scrolled": true
   },
   "outputs": [],
   "source": [
    "sc.pl.umap(adata, color='Pseudotime', legend_fontsize=7.5)"
   ]
  },
  {
   "cell_type": "markdown",
   "id": "2aed6c2e",
   "metadata": {},
   "source": [
    "## Attention maps"
   ]
  },
  {
   "cell_type": "code",
   "execution_count": null,
   "id": "77d76265",
   "metadata": {},
   "outputs": [],
   "source": []
  },
  {
   "cell_type": "code",
   "execution_count": null,
   "id": "bebc1b2c-0dde-43ff-9cba-2911e6211f7d",
   "metadata": {},
   "outputs": [],
   "source": []
  }
 ],
 "metadata": {
  "environment": {
   "kernel": "conda-env-scvi-env-py",
   "name": "common-cu113.m91",
   "type": "gcloud",
   "uri": "gcr.io/deeplearning-platform-release/base-cu113:m91"
  },
  "kernelspec": {
   "display_name": "Python 3 (ipykernel)",
   "language": "python",
   "name": "python3"
  },
  "language_info": {
   "codemirror_mode": {
    "name": "ipython",
    "version": 3
   },
   "file_extension": ".py",
   "mimetype": "text/x-python",
   "name": "python",
   "nbconvert_exporter": "python",
   "pygments_lexer": "ipython3",
   "version": "3.9.16"
  }
 },
 "nbformat": 4,
 "nbformat_minor": 5
}

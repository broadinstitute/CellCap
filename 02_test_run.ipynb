{
 "cells": [
  {
   "cell_type": "code",
   "execution_count": 1,
   "id": "fec16ed9-f51e-430e-b738-abd414f3f53d",
   "metadata": {},
   "outputs": [],
   "source": [
    "import gc\n",
    "import time\n",
    "import umap\n",
    "\n",
    "import torch\n",
    "import collections\n",
    "import numpy as np\n",
    "import pandas as pd\n",
    "import scanpy as sc\n",
    "\n",
    "import seaborn as sns\n",
    "import matplotlib.pyplot as plt"
   ]
  },
  {
   "cell_type": "code",
   "execution_count": 2,
   "id": "897ca19d-0584-41fd-8f24-dc460ceac584",
   "metadata": {},
   "outputs": [],
   "source": [
    "from sklearn import linear_model\n",
    "from sklearn.preprocessing import MinMaxScaler\n",
    "from sklearn.preprocessing import StandardScaler\n",
    "from sklearn.linear_model import LinearRegression"
   ]
  },
  {
   "cell_type": "code",
   "execution_count": 3,
   "id": "7633cade-39e9-4460-9461-5ef0c43263e3",
   "metadata": {},
   "outputs": [
    {
     "name": "stderr",
     "output_type": "stream",
     "text": [
      "Global seed set to 0\n",
      "/opt/conda/envs/scvi-env/lib/python3.9/site-packages/pytorch_lightning/utilities/warnings.py:53: LightningDeprecationWarning: pytorch_lightning.utilities.warnings.rank_zero_deprecation has been deprecated in v1.6 and will be removed in v1.8. Use the equivalent function from the pytorch_lightning.utilities.rank_zero module instead.\n",
      "  new_rank_zero_deprecation(\n",
      "/opt/conda/envs/scvi-env/lib/python3.9/site-packages/pytorch_lightning/utilities/warnings.py:58: LightningDeprecationWarning: The `pytorch_lightning.loggers.base.rank_zero_experiment` is deprecated in v1.7 and will be removed in v1.9. Please use `pytorch_lightning.loggers.logger.rank_zero_experiment` instead.\n",
      "  return new_rank_zero_deprecation(*args, **kwargs)\n",
      "/opt/conda/envs/scvi-env/lib/python3.9/site-packages/docrep/decorators.py:43: SyntaxWarning: 'param_target_key' is not a valid key!\n",
      "  doc = func(self, args[0].__doc__, *args[1:], **kwargs)\n",
      "/opt/conda/envs/scvi-env/lib/python3.9/site-packages/docrep/decorators.py:43: SyntaxWarning: 'param_donor_key' is not a valid key!\n",
      "  doc = func(self, args[0].__doc__, *args[1:], **kwargs)\n"
     ]
    }
   ],
   "source": [
    "import scvi\n",
    "from cellcap.scvi_module import CellCap"
   ]
  },
  {
   "cell_type": "code",
   "execution_count": 4,
   "id": "887ee562-5e4f-4b51-915f-765ce3c680e8",
   "metadata": {},
   "outputs": [],
   "source": [
    "def downsample_to_smallest_category(adata,column=\"cell_type\",random_state=None,\n",
    "                                    min_cells=15,keep_small_categories=False):\n",
    "    \n",
    "    counts = adata.obs[column].value_counts(sort=False)\n",
    "    min_size = min(counts[counts >= min_cells])\n",
    "    sample_selection = None\n",
    "    for sample, num_cells in counts.items():\n",
    "        if num_cells <= min_cells:\n",
    "            if keep_small_categories:\n",
    "                sel = adata.obs.index.isin(\n",
    "                    adata.obs[adata.obs[column] == sample].index)\n",
    "            else:\n",
    "                continue\n",
    "        else:\n",
    "            sel = adata.obs.index.isin(\n",
    "                adata.obs[adata.obs[column] == sample]\n",
    "                .sample(min_size, random_state=random_state)\n",
    "                .index\n",
    "            )\n",
    "        if sample_selection is None:\n",
    "            sample_selection = sel\n",
    "        else:\n",
    "            sample_selection |= sel\n",
    "    return adata[sample_selection].copy()"
   ]
  },
  {
   "cell_type": "code",
   "execution_count": null,
   "id": "d44df23d-51db-40a0-b431-4ed9cb557f23",
   "metadata": {},
   "outputs": [],
   "source": []
  },
  {
   "cell_type": "markdown",
   "id": "325460ae-7eae-41ca-8463-e9f28a910d9d",
   "metadata": {},
   "source": [
    "Prepare data for ready-to-use"
   ]
  },
  {
   "cell_type": "code",
   "execution_count": 5,
   "id": "8dfb20c5-5918-4b0e-a696-db17dccc527c",
   "metadata": {},
   "outputs": [],
   "source": [
    "adata = sc.read_h5ad('../data/scLevyAll_neuron20.h5ad')"
   ]
  },
  {
   "cell_type": "code",
   "execution_count": 6,
   "id": "43629f99-9cff-49c8-98b2-9fb5b452ed4e",
   "metadata": {},
   "outputs": [
    {
     "data": {
      "text/plain": [
       "Counter({'INFa': 3426,\n",
       "         'DMSO': 3426,\n",
       "         'CLOZ': 3426,\n",
       "         'HALO': 3426,\n",
       "         'AZT': 3426,\n",
       "         'EFA': 2452,\n",
       "         'ATOR': 2629,\n",
       "         'ISRD': 3426,\n",
       "         'GluN2a': 3426,\n",
       "         'Control': 3426,\n",
       "         'INFy': 3426,\n",
       "         'PBS': 3426,\n",
       "         'H2O2': 1046,\n",
       "         'TNFa': 3426,\n",
       "         'GLUT': 3426,\n",
       "         'SIM': 1365})"
      ]
     },
     "execution_count": 6,
     "metadata": {},
     "output_type": "execute_result"
    }
   ],
   "source": [
    "adata = downsample_to_smallest_category(adata,column=\"condition\",\n",
    "                                        min_cells=3000,keep_small_categories=True)\n",
    "collections.Counter(adata.obs['condition'])"
   ]
  },
  {
   "cell_type": "code",
   "execution_count": 7,
   "id": "40faebdc-dc52-4736-a3b9-8e261e35d53d",
   "metadata": {},
   "outputs": [
    {
     "data": {
      "text/html": [
       "<div>\n",
       "<style scoped>\n",
       "    .dataframe tbody tr th:only-of-type {\n",
       "        vertical-align: middle;\n",
       "    }\n",
       "\n",
       "    .dataframe tbody tr th {\n",
       "        vertical-align: top;\n",
       "    }\n",
       "\n",
       "    .dataframe thead th {\n",
       "        text-align: right;\n",
       "    }\n",
       "</style>\n",
       "<table border=\"1\" class=\"dataframe\">\n",
       "  <thead>\n",
       "    <tr style=\"text-align: right;\">\n",
       "      <th></th>\n",
       "      <th>Perturbation</th>\n",
       "      <th>Category</th>\n",
       "      <th>Vehicle</th>\n",
       "    </tr>\n",
       "  </thead>\n",
       "  <tbody>\n",
       "    <tr>\n",
       "      <th>0</th>\n",
       "      <td>A1CYTO</td>\n",
       "      <td>Inflammatory response</td>\n",
       "      <td>PBS</td>\n",
       "    </tr>\n",
       "    <tr>\n",
       "      <th>1</th>\n",
       "      <td>ATOR</td>\n",
       "      <td>Cholesterol biosynthesis</td>\n",
       "      <td>DMSO</td>\n",
       "    </tr>\n",
       "    <tr>\n",
       "      <th>2</th>\n",
       "      <td>AZT</td>\n",
       "      <td>Oxidative stress</td>\n",
       "      <td>DMSO</td>\n",
       "    </tr>\n",
       "    <tr>\n",
       "      <th>3</th>\n",
       "      <td>C1Q</td>\n",
       "      <td>Inflammatory response</td>\n",
       "      <td>PBS</td>\n",
       "    </tr>\n",
       "    <tr>\n",
       "      <th>4</th>\n",
       "      <td>CLOZ</td>\n",
       "      <td>Antipsychotic</td>\n",
       "      <td>DMSO</td>\n",
       "    </tr>\n",
       "    <tr>\n",
       "      <th>5</th>\n",
       "      <td>DMSO</td>\n",
       "      <td>Vehicle control</td>\n",
       "      <td>DMSO</td>\n",
       "    </tr>\n",
       "    <tr>\n",
       "      <th>6</th>\n",
       "      <td>EFA</td>\n",
       "      <td>Cholesterol biosynthesis</td>\n",
       "      <td>DMSO</td>\n",
       "    </tr>\n",
       "    <tr>\n",
       "      <th>7</th>\n",
       "      <td>GluN2a</td>\n",
       "      <td>NMDA/excitability</td>\n",
       "      <td>PBS</td>\n",
       "    </tr>\n",
       "    <tr>\n",
       "      <th>8</th>\n",
       "      <td>GLUT</td>\n",
       "      <td>NMDA/excitability</td>\n",
       "      <td>PBS</td>\n",
       "    </tr>\n",
       "    <tr>\n",
       "      <th>9</th>\n",
       "      <td>H2O2</td>\n",
       "      <td>Oxidative stress</td>\n",
       "      <td>PBS</td>\n",
       "    </tr>\n",
       "    <tr>\n",
       "      <th>10</th>\n",
       "      <td>HALO</td>\n",
       "      <td>Antipsychotic</td>\n",
       "      <td>DMSO</td>\n",
       "    </tr>\n",
       "    <tr>\n",
       "      <th>11</th>\n",
       "      <td>IL1a</td>\n",
       "      <td>Inflammatory response</td>\n",
       "      <td>PBS</td>\n",
       "    </tr>\n",
       "    <tr>\n",
       "      <th>12</th>\n",
       "      <td>INFa</td>\n",
       "      <td>Inflammatory response</td>\n",
       "      <td>PBS</td>\n",
       "    </tr>\n",
       "    <tr>\n",
       "      <th>13</th>\n",
       "      <td>INFy</td>\n",
       "      <td>Inflammatory response</td>\n",
       "      <td>PBS</td>\n",
       "    </tr>\n",
       "    <tr>\n",
       "      <th>14</th>\n",
       "      <td>ISRD</td>\n",
       "      <td>NMDA/excitability</td>\n",
       "      <td>DMSO</td>\n",
       "    </tr>\n",
       "    <tr>\n",
       "      <th>15</th>\n",
       "      <td>PBS</td>\n",
       "      <td>Vehicle control</td>\n",
       "      <td>PBS</td>\n",
       "    </tr>\n",
       "    <tr>\n",
       "      <th>16</th>\n",
       "      <td>SIM</td>\n",
       "      <td>Cholesterol biosynthesis</td>\n",
       "      <td>DMSO</td>\n",
       "    </tr>\n",
       "    <tr>\n",
       "      <th>17</th>\n",
       "      <td>TNFa</td>\n",
       "      <td>Inflammatory response</td>\n",
       "      <td>PBS</td>\n",
       "    </tr>\n",
       "    <tr>\n",
       "      <th>18</th>\n",
       "      <td>Control</td>\n",
       "      <td>Control</td>\n",
       "      <td>Control</td>\n",
       "    </tr>\n",
       "  </tbody>\n",
       "</table>\n",
       "</div>"
      ],
      "text/plain": [
       "   Perturbation                  Category  Vehicle\n",
       "0        A1CYTO     Inflammatory response      PBS\n",
       "1          ATOR  Cholesterol biosynthesis     DMSO\n",
       "2           AZT          Oxidative stress     DMSO\n",
       "3           C1Q     Inflammatory response      PBS\n",
       "4          CLOZ             Antipsychotic     DMSO\n",
       "5          DMSO           Vehicle control     DMSO\n",
       "6           EFA  Cholesterol biosynthesis     DMSO\n",
       "7        GluN2a         NMDA/excitability      PBS\n",
       "8          GLUT         NMDA/excitability      PBS\n",
       "9          H2O2          Oxidative stress      PBS\n",
       "10         HALO             Antipsychotic     DMSO\n",
       "11         IL1a     Inflammatory response      PBS\n",
       "12         INFa     Inflammatory response      PBS\n",
       "13         INFy     Inflammatory response      PBS\n",
       "14         ISRD         NMDA/excitability     DMSO\n",
       "15          PBS           Vehicle control      PBS\n",
       "16          SIM  Cholesterol biosynthesis     DMSO\n",
       "17         TNFa     Inflammatory response      PBS\n",
       "18      Control                   Control  Control"
      ]
     },
     "execution_count": 7,
     "metadata": {},
     "output_type": "execute_result"
    }
   ],
   "source": [
    "drugtype = pd.read_csv('../data/LevyDrug_class.csv',header=0,index_col=False)\n",
    "drugtype"
   ]
  },
  {
   "cell_type": "code",
   "execution_count": 8,
   "id": "c2e2e971",
   "metadata": {},
   "outputs": [],
   "source": [
    "codes, uniques = pd.factorize(adata.obs['condition'])\n",
    "uniques = list(uniques)\n",
    "adata.obs['Condition']=codes\n",
    "#drugY = np.zeros((len(codes),len(uniques)))\n",
    "#for i in range(len(codes)):\n",
    "#    j = codes[i]\n",
    "#    drugY[i,j]=1\n",
    "#drugY[:,uniques.index('Control')]=0\n",
    "#drugY[:,uniques.index('DMSO')]=0\n",
    "#drugY[:,uniques.index('PBS')]=0\n",
    "#drugY = drugY[:,np.sum(drugY,0)>0]"
   ]
  },
  {
   "cell_type": "code",
   "execution_count": 9,
   "id": "341522da-0a56-4921-a281-3841011ba4d9",
   "metadata": {},
   "outputs": [],
   "source": [
    "drug_names = uniques.copy()\n",
    "drug_names.remove('Control')\n",
    "#drug_names.remove('DMSO')\n",
    "#drug_names.remove('PBS')"
   ]
  },
  {
   "cell_type": "code",
   "execution_count": 10,
   "id": "1222b24a-23c9-4c22-a0af-dce56c846ed8",
   "metadata": {},
   "outputs": [],
   "source": [
    "#contY = np.zeros((len(codes),len(uniques)))\n",
    "#for i in range(len(codes)):\n",
    "#    j = codes[i]\n",
    "#    sub_drugtype = drugtype[drugtype['Perturbation']==uniques[j]]\n",
    "#    index = uniques.index(sub_drugtype['Vehicle'].values[0])\n",
    "#    contY[i,index]=1\n",
    "#contY[:,uniques.index('Control')]=0\n",
    "#contY = contY[:,np.sum(contY,0)>0]"
   ]
  },
  {
   "cell_type": "code",
   "execution_count": 11,
   "id": "f6f4c19d-6806-4c85-9fb7-1db623844832",
   "metadata": {},
   "outputs": [],
   "source": [
    "target_label = np.zeros((len(codes),len(uniques)))\n",
    "for i in range(len(codes)):\n",
    "    j = codes[i]\n",
    "    target_label[i,j]=1\n",
    "    sub_drugtype = drugtype[drugtype['Perturbation']==uniques[j]]\n",
    "    index = uniques.index(sub_drugtype['Vehicle'].values[0])\n",
    "    target_label[i,index]=1\n",
    "target_label[:,uniques.index('Control')]=0\n",
    "target_label = target_label[:,np.sum(target_label,0)>0]"
   ]
  },
  {
   "cell_type": "code",
   "execution_count": 13,
   "id": "19717e79-f8bb-4735-93e8-37e230a6bfea",
   "metadata": {},
   "outputs": [],
   "source": [
    "vehicles=[]\n",
    "for i in range(len(codes)):\n",
    "    j = codes[i]\n",
    "    sub_drugtype = drugtype[drugtype['Perturbation']==uniques[j]]\n",
    "    vehicles.append(sub_drugtype['Vehicle'].values[0])\n",
    "adata.obs['Vehicle']=vehicles"
   ]
  },
  {
   "cell_type": "code",
   "execution_count": 14,
   "id": "a9474b76",
   "metadata": {},
   "outputs": [
    {
     "name": "stdout",
     "output_type": "stream",
     "text": [
      "(48604, 15)\n"
     ]
    }
   ],
   "source": [
    "#print(drugY.shape)\n",
    "#print(contY.shape)\n",
    "print(target_label.shape)\n",
    "#adata.obsm['X_drug']=drugY\n",
    "#adata.obsm['X_cont']=contY\n",
    "adata.obsm['X_target']=target_label"
   ]
  },
  {
   "cell_type": "code",
   "execution_count": 15,
   "id": "b5896705-9300-4fe8-a3db-256ef79743a4",
   "metadata": {},
   "outputs": [],
   "source": [
    "donor_codes, donor_uniques = pd.factorize(adata.obs['DONOR'])\n",
    "donor_uniques = list(donor_uniques)\n",
    "donorY = np.zeros((len(donor_codes),len(donor_uniques)))\n",
    "for i in range(len(donor_codes)):\n",
    "    j = donor_codes[i]\n",
    "    donorY[i,j]=1\n",
    "adata.obsm['X_donor']=donorY"
   ]
  },
  {
   "cell_type": "code",
   "execution_count": 16,
   "id": "0b4777d4-8c14-4b47-b320-be6e9bbb362d",
   "metadata": {},
   "outputs": [
    {
     "name": "stdout",
     "output_type": "stream",
     "text": [
      "(48604, 39)\n"
     ]
    }
   ],
   "source": [
    "print(donorY.shape)"
   ]
  },
  {
   "cell_type": "code",
   "execution_count": 17,
   "id": "4aadc177",
   "metadata": {},
   "outputs": [
    {
     "data": {
      "text/plain": [
       "Counter({'Neuron': 48604})"
      ]
     },
     "execution_count": 17,
     "metadata": {},
     "output_type": "execute_result"
    }
   ],
   "source": [
    "import collections\n",
    "collections.Counter(adata.obs['cell_type'])"
   ]
  },
  {
   "cell_type": "code",
   "execution_count": 18,
   "id": "86dda407",
   "metadata": {},
   "outputs": [
    {
     "data": {
      "text/plain": [
       "Counter({'INFa': 3426,\n",
       "         'DMSO': 3426,\n",
       "         'CLOZ': 3426,\n",
       "         'HALO': 3426,\n",
       "         'AZT': 3426,\n",
       "         'EFA': 2452,\n",
       "         'ATOR': 2629,\n",
       "         'ISRD': 3426,\n",
       "         'GluN2a': 3426,\n",
       "         'Control': 3426,\n",
       "         'INFy': 3426,\n",
       "         'PBS': 3426,\n",
       "         'H2O2': 1046,\n",
       "         'TNFa': 3426,\n",
       "         'GLUT': 3426,\n",
       "         'SIM': 1365})"
      ]
     },
     "execution_count": 18,
     "metadata": {},
     "output_type": "execute_result"
    }
   ],
   "source": [
    "collections.Counter(adata.obs['condition'])"
   ]
  },
  {
   "cell_type": "code",
   "execution_count": null,
   "id": "67394cad-05d4-4659-8623-121403ddb571",
   "metadata": {},
   "outputs": [],
   "source": []
  },
  {
   "cell_type": "markdown",
   "id": "afc7cd9a-8c28-4730-924e-f59354ee2900",
   "metadata": {},
   "source": [
    "Train CellCap model"
   ]
  },
  {
   "cell_type": "code",
   "execution_count": 19,
   "id": "a5368679-d736-4d0e-b33a-08a329c75432",
   "metadata": {},
   "outputs": [
    {
     "name": "stdout",
     "output_type": "stream",
     "text": [
      "\u001b[34mINFO    \u001b[0m Generating sequential column names                                                  \n",
      "\u001b[34mINFO    \u001b[0m Generating sequential column names                                                  \n",
      "\u001b[34mINFO    \u001b[0m Generating sequential column names                                                  \n"
     ]
    }
   ],
   "source": [
    "CellCap.setup_anndata(adata,layer=\"counts\",\n",
    "                      target_key='X_target',donor_key='X_donor')\n",
    "\n",
    "cellcap = CellCap(adata, n_latent=20, n_layers=3,\n",
    "                  n_drug=15,n_donor=39,gene_likelihood='nb',n_prog=15)"
   ]
  },
  {
   "cell_type": "code",
   "execution_count": null,
   "id": "59257821",
   "metadata": {},
   "outputs": [
    {
     "name": "stderr",
     "output_type": "stream",
     "text": [
      "GPU available: True (cuda), used: True\n",
      "TPU available: False, using: 0 TPU cores\n",
      "IPU available: False, using: 0 IPUs\n",
      "HPU available: False, using: 0 HPUs\n",
      "/opt/conda/envs/scvi-env/lib/python3.9/site-packages/pytorch_lightning/trainer/configuration_validator.py:267: LightningDeprecationWarning: The `Callback.on_epoch_end` hook was deprecated in v1.6 and will be removed in v1.8. Please use `Callback.on_<train/validation/test>_epoch_end` instead.\n",
      "  rank_zero_deprecation(\n",
      "LOCAL_RANK: 0 - CUDA_VISIBLE_DEVICES: [0]\n"
     ]
    },
    {
     "name": "stdout",
     "output_type": "stream",
     "text": [
      "Epoch 354/1000:  35%|███▌      | 353/1000 [21:37<36:49,  3.41s/it, loss=5.36e+03, v_num=1]  "
     ]
    }
   ],
   "source": [
    "cellcap.train(max_epochs=1000,batch_size=1024)"
   ]
  },
  {
   "cell_type": "code",
   "execution_count": null,
   "id": "0ad75b34-8aea-4af1-b4c5-17b7a9769b1a",
   "metadata": {},
   "outputs": [],
   "source": []
  },
  {
   "cell_type": "markdown",
   "id": "4c176cc7-0231-4e3c-a982-db5740257ab3",
   "metadata": {},
   "source": [
    "Plot latent space"
   ]
  },
  {
   "cell_type": "code",
   "execution_count": null,
   "id": "cc4257d0-dba9-42ca-98eb-26b8101517a7",
   "metadata": {},
   "outputs": [],
   "source": [
    "z = cellcap.get_latent_embedding(adata)\n",
    "adata.obsm['X_basal']=z"
   ]
  },
  {
   "cell_type": "code",
   "execution_count": null,
   "id": "63b5a3df",
   "metadata": {},
   "outputs": [],
   "source": [
    "sc.pp.neighbors(adata, n_neighbors=15, use_rep='X_basal', random_state=0,metric='cosine')\n",
    "sc.tl.umap(adata, min_dist=0.15)#,method='rapids')\n",
    "sc.set_figure_params(scanpy=True, dpi=75, dpi_save=75)\n",
    "sc.pl.umap(adata, color='cell_type', title='',legend_loc='on data')\n",
    "sc.pl.umap(adata, color='condition', title='')"
   ]
  },
  {
   "cell_type": "code",
   "execution_count": null,
   "id": "e097de05-b8a4-460e-821d-a182e17d2444",
   "metadata": {},
   "outputs": [],
   "source": [
    "sc.set_figure_params(scanpy=True, dpi=75, dpi_save=75)\n",
    "sc.pl.umap(adata, color='DONOR', title='')\n",
    "sc.pl.umap(adata, color='Sex', title='')\n",
    "sc.pl.umap(adata, color='Clinical', title='')\n",
    "sc.pl.umap(adata, color='Age', title='')"
   ]
  },
  {
   "cell_type": "code",
   "execution_count": null,
   "id": "3aaf33d5-8aba-43c7-b1a3-0bec07087051",
   "metadata": {},
   "outputs": [],
   "source": [
    "##ROC to evaluate basal state\n",
    "from sklearn.metrics import roc_auc_score\n",
    "from sklearn.metrics import roc_curve, auc\n",
    "from sklearn.linear_model import LogisticRegression\n",
    "from sklearn.model_selection import train_test_split"
   ]
  },
  {
   "cell_type": "code",
   "execution_count": null,
   "id": "ddcdecd2-2028-4ceb-8235-e0b1bded32e2",
   "metadata": {},
   "outputs": [],
   "source": [
    "adata.obsm['X_latent']=z\n",
    "fpr=dict()\n",
    "tpr=dict()\n",
    "roc_auc=dict()\n",
    "conditions = list(set(adata[adata.obs['condition']!='Control'].obs['condition'].values))\n",
    "for c in conditions:\n",
    "    subad = adata[np.logical_or(adata.obs['condition']=='Control',adata.obs['condition']==c)]\n",
    "    y, ycode = pd.factorize(subad.obs['condition'])\n",
    "    y[subad.obs['condition']=='Control']=0\n",
    "    y[subad.obs['condition']==c]=1\n",
    "    X = subad.obsm['X_latent']\n",
    "    random_state = np.random.RandomState(0)\n",
    "\n",
    "    # shuffle and split training and test sets\n",
    "    X_train, X_test, y_train, y_test = train_test_split(X, y, test_size=0.5, random_state=0)\n",
    "\n",
    "    # Learn to predict each class against the other\n",
    "    classifier = LogisticRegression(random_state=random_state)\n",
    "    y_score = classifier.fit(X_train, y_train).decision_function(X_test)\n",
    "\n",
    "    fpr[c], tpr[c], _ = roc_curve(y_test, y_score, pos_label=classifier.classes_[1])\n",
    "    roc_auc[c] = auc(fpr[c], tpr[c])"
   ]
  },
  {
   "cell_type": "code",
   "execution_count": null,
   "id": "0277e974-c440-413c-bf84-2fcc680e65bb",
   "metadata": {},
   "outputs": [],
   "source": [
    "conditions.sort()"
   ]
  },
  {
   "cell_type": "code",
   "execution_count": null,
   "id": "81d11bc0-10ba-4afb-82bb-ff4b5cb4631f",
   "metadata": {},
   "outputs": [],
   "source": [
    "colors = list(sns.color_palette(\"Paired\"))+list(sns.color_palette(\"hls\", 8))"
   ]
  },
  {
   "cell_type": "code",
   "execution_count": null,
   "id": "a8790fb8-90c6-4deb-905f-05ecbc878b1e",
   "metadata": {},
   "outputs": [],
   "source": [
    "sc.set_figure_params(scanpy=True, dpi=200, dpi_save=200)\n",
    "plt.figure()\n",
    "for i, color in zip(range(len(conditions)), colors):\n",
    "    plt.plot(\n",
    "        fpr[conditions[i]],\n",
    "        tpr[conditions[i]],\n",
    "        color=color,\n",
    "        lw=1,\n",
    "        #linestyle=\":\",\n",
    "        label=\"{0}\".format(conditions[i]),\n",
    "        #label=\"{0} (AUC = {1:0.2f})\".format(conditions[i], roc_auc[conditions[i]]),\n",
    "    )\n",
    "plt.grid(False)\n",
    "plt.plot([0, 1], [0, 1], \"k--\", lw=1)\n",
    "plt.xlim([0.0, 1.0])\n",
    "plt.ylim([0.0, 1.0])\n",
    "plt.xlabel(\"False Positive Rate\")\n",
    "plt.ylabel(\"True Positive Rate\")\n",
    "plt.title(\"\")\n",
    "legend = plt.legend(loc=\"lower right\",prop={'size': 4.5})\n",
    "#legend = plt.legend(bbox_to_anchor=(1.1, 1.05),prop={'size': 5})\n",
    "legend.get_frame().set_facecolor('none')\n",
    "plt.show()"
   ]
  },
  {
   "cell_type": "code",
   "execution_count": null,
   "id": "35d77964-87aa-4240-b6b0-35ea53c09e1d",
   "metadata": {},
   "outputs": [],
   "source": [
    "for i, color in zip(range(len(conditions)), colors):\n",
    "    print(\"{0} (AUC = {1:0.4f})\".format(conditions[i], roc_auc[conditions[i]]))"
   ]
  },
  {
   "cell_type": "code",
   "execution_count": null,
   "id": "5092999d-8829-40db-a221-419d1c1932b5",
   "metadata": {},
   "outputs": [],
   "source": []
  },
  {
   "cell_type": "code",
   "execution_count": null,
   "id": "73cad5b7-d34a-4081-bbba-03544322d37a",
   "metadata": {},
   "outputs": [],
   "source": []
  },
  {
   "cell_type": "code",
   "execution_count": null,
   "id": "5866373c-b396-4d4f-9b77-c7a32d9978fd",
   "metadata": {},
   "outputs": [],
   "source": [
    "zP, zAttn = cellcap.get_pert_embedding(adata)\n",
    "zA = cellcap.get_embedding(adata)\n",
    "\n",
    "adata.obsm['X_pert']=zP\n",
    "adata.obsm['X_attn']=zAttn\n",
    "adata.obsm['X_latent']=zA"
   ]
  },
  {
   "cell_type": "code",
   "execution_count": null,
   "id": "5516a93d-2675-4805-a13c-dcbaf46cf002",
   "metadata": {},
   "outputs": [],
   "source": []
  },
  {
   "cell_type": "code",
   "execution_count": null,
   "id": "bdb75356-880a-421e-bbbf-e58fe3c95c71",
   "metadata": {},
   "outputs": [],
   "source": []
  },
  {
   "cell_type": "code",
   "execution_count": null,
   "id": "75e15d99-fdda-4cdb-9511-a9202d595924",
   "metadata": {},
   "outputs": [],
   "source": [
    "n_latent = 20\n",
    "n_prog=15\n",
    "attention = ['A'+str(i) for i in range(1,n_prog+1)]"
   ]
  },
  {
   "cell_type": "code",
   "execution_count": null,
   "id": "009576df-a366-4228-8a9c-4ce8cc78c494",
   "metadata": {},
   "outputs": [],
   "source": [
    "ard = []\n",
    "for i in cellcap.history.keys():\n",
    "    if 'alpha' in i and 'train' in i:\n",
    "        ard.append(cellcap.history[i].iloc[:,0].values)\n",
    "    #if 'h_pq' in i and 'train' in i:\n",
    "    #    ard.append(cellcap.history[i].iloc[:,0].values)\n",
    "\n",
    "ard = torch.from_numpy(np.array(ard).astype('float32'))\n",
    "#ard = ard.sigmoid()\n",
    "#ard = 1/ard\n",
    "ard = torch.Tensor.cpu(ard).detach().numpy()\n",
    "e = ard.shape[1]\n",
    "ard = ard.reshape(15,n_prog,e)"
   ]
  },
  {
   "cell_type": "code",
   "execution_count": null,
   "id": "cf45a56c-2511-4e41-bc4e-b4e047de9974",
   "metadata": {},
   "outputs": [],
   "source": [
    "cloz = ard[drug_names.index('CLOZ'),:]\n",
    "\n",
    "sc.set_figure_params(scanpy=True, dpi=150, dpi_save=150)\n",
    "plt.figure()\n",
    "for p, color in zip(range(n_prog), colors):\n",
    "    plt.plot(\n",
    "        [i for i in range(0,cloz.shape[1])],\n",
    "        cloz[p,:],\n",
    "        color=color,\n",
    "        lw=1,\n",
    "        label=\"{0}\".format(p+1),\n",
    "    )\n",
    "plt.grid(False)\n",
    "plt.title(\"\")\n",
    "#legend = plt.legend(loc=\"lower right\",prop={'size': 4.5})\n",
    "legend = plt.legend(bbox_to_anchor=(1.02, 1), loc='upper left', borderaxespad=0)\n",
    "legend.get_frame().set_facecolor('none')\n",
    "plt.show()"
   ]
  },
  {
   "cell_type": "code",
   "execution_count": null,
   "id": "fb81223e-694e-4687-b062-9b69dfba780d",
   "metadata": {},
   "outputs": [],
   "source": [
    "cloz = ard[drug_names.index('DMSO'),:,:]\n",
    "\n",
    "sc.set_figure_params(scanpy=True, dpi=150, dpi_save=150)\n",
    "plt.figure()\n",
    "for p, color in zip(range(n_prog), colors):\n",
    "    plt.plot(\n",
    "        [i for i in range(0,cloz.shape[1])],\n",
    "        cloz[p,:],\n",
    "        color=color,\n",
    "        lw=1,\n",
    "        label=\"{0}\".format(p+1),\n",
    "    )\n",
    "plt.grid(False)\n",
    "plt.title(\"\")\n",
    "#legend = plt.legend(loc=\"lower right\",prop={'size': 4.5})\n",
    "legend = plt.legend(bbox_to_anchor=(1.02, 1), loc='upper left', borderaxespad=0)\n",
    "legend.get_frame().set_facecolor('none')\n",
    "plt.show()"
   ]
  },
  {
   "cell_type": "code",
   "execution_count": null,
   "id": "09544494-3030-42b6-bc22-925d8fbf4ee2",
   "metadata": {},
   "outputs": [],
   "source": [
    "drug_embedding = cellcap.get_pert_loadings()\n",
    "weights = cellcap.get_loadings()\n",
    "drug_loading = np.matmul(weights,drug_embedding.T)\n",
    "drug_loading = pd.DataFrame(drug_loading)\n",
    "drug_loading.index = adata.var.index\n",
    "drug_loading.columns = drug_names"
   ]
  },
  {
   "cell_type": "code",
   "execution_count": null,
   "id": "e0122ca1-f7c4-4b4d-8580-2b1c19152444",
   "metadata": {},
   "outputs": [],
   "source": [
    "w = drug_loading['CLOZ'].sort_values(ascending = False)\n",
    "w.index[:100]"
   ]
  },
  {
   "cell_type": "code",
   "execution_count": null,
   "id": "eaead04a-2c89-485f-99aa-ca50f0a0690a",
   "metadata": {},
   "outputs": [],
   "source": [
    "drug_embedding = cellcap.get_resp_loadings()\n",
    "weights = cellcap.get_loadings()\n",
    "drug_loading = np.matmul(weights,drug_embedding.T)\n",
    "drug_loading = pd.DataFrame(drug_loading)\n",
    "drug_loading.index = adata.var.index"
   ]
  },
  {
   "cell_type": "code",
   "execution_count": null,
   "id": "46752147-ebac-4c0f-8761-a758c63812e4",
   "metadata": {},
   "outputs": [],
   "source": [
    "w = drug_loading.iloc[:,14].sort_values(ascending = False)\n",
    "w.index[:100]"
   ]
  },
  {
   "cell_type": "code",
   "execution_count": null,
   "id": "763458bc-e9be-4232-b9e3-a66ec62849a9",
   "metadata": {},
   "outputs": [],
   "source": []
  },
  {
   "cell_type": "code",
   "execution_count": null,
   "id": "611e2773-fb0a-439f-b683-404b53c77fbb",
   "metadata": {},
   "outputs": [],
   "source": [
    "for d in drug_names:\n",
    "    cloz = adata[adata.obs['condition']==d]\n",
    "    attn = pd.DataFrame(cloz.obsm['X_attn'])\n",
    "    attn.columns = attention\n",
    "    #attn.iloc[0,:]=0\n",
    "    #attn.iloc[1,:]=1\n",
    "\n",
    "    for a in attention:\n",
    "        x = attn[a].values\n",
    "        #x[x<=0.5]=np.nan\n",
    "        x[0]=0\n",
    "        x[1]=1\n",
    "        cloz.obs[a]=x\n",
    "    \n",
    "    sc.set_figure_params(scanpy=True, dpi=50, dpi_save=50)\n",
    "    print(d)\n",
    "    sc.pl.umap(cloz, color=attention,ncols=15, frameon=False,cmap='coolwarm')#,size=30)\n",
    "    #sc.pl.umap(cloz, color=['VIM','MVD'],ncols=5, frameon=False,cmap='coolwarm')#,size=30)"
   ]
  },
  {
   "cell_type": "code",
   "execution_count": null,
   "id": "5a063ef8-3945-4e8d-bdcc-098cd99390e1",
   "metadata": {},
   "outputs": [],
   "source": []
  },
  {
   "cell_type": "code",
   "execution_count": null,
   "id": "444062a1-7492-4a81-9c61-48fa06446054",
   "metadata": {},
   "outputs": [],
   "source": []
  },
  {
   "cell_type": "code",
   "execution_count": null,
   "id": "330a2168-28dd-4b7c-907e-55a0906c5c3c",
   "metadata": {},
   "outputs": [],
   "source": [
    "sc.pp.neighbors(adata, n_neighbors=15, use_rep='X_latent', random_state=0,metric='cosine')\n",
    "sc.tl.umap(adata, min_dist=0.15)#,method='rapids')\n",
    "sc.set_figure_params(scanpy=True, dpi=75, dpi_save=75)\n",
    "sc.pl.umap(adata, color='cell_type', title='',legend_loc='on data')\n",
    "sc.pl.umap(adata, color='condition', title='',legend_loc='on data',legend_fontsize=7.5)"
   ]
  },
  {
   "cell_type": "code",
   "execution_count": null,
   "id": "9d853821-94fb-4787-bd24-7e85f52a8e13",
   "metadata": {},
   "outputs": [],
   "source": []
  }
 ],
 "metadata": {
  "environment": {
   "kernel": "conda-env-scvi-env-py",
   "name": "common-cu113.m91",
   "type": "gcloud",
   "uri": "gcr.io/deeplearning-platform-release/base-cu113:m91"
  },
  "kernelspec": {
   "display_name": "Python [conda env:scvi-env]",
   "language": "python",
   "name": "conda-env-scvi-env-py"
  },
  "language_info": {
   "codemirror_mode": {
    "name": "ipython",
    "version": 3
   },
   "file_extension": ".py",
   "mimetype": "text/x-python",
   "name": "python",
   "nbconvert_exporter": "python",
   "pygments_lexer": "ipython3",
   "version": "3.9.13"
  }
 },
 "nbformat": 4,
 "nbformat_minor": 5
}

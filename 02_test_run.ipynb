{
 "cells": [
  {
   "cell_type": "markdown",
   "id": "042fd562",
   "metadata": {},
   "source": [
    "# Test run of the algorithm\n",
    "\n",
    "Yang Xu\n",
    "\n",
    "Stephen Fleming\n",
    "\n",
    "2022.12.01"
   ]
  },
  {
   "cell_type": "code",
   "execution_count": null,
   "id": "764afd75",
   "metadata": {},
   "outputs": [],
   "source": [
    "%load_ext autoreload\n",
    "%autoreload 2"
   ]
  },
  {
   "cell_type": "code",
   "execution_count": null,
   "id": "e8027fa5",
   "metadata": {},
   "outputs": [],
   "source": [
    "# import our module\n",
    "\n",
    "from VariationalCPA_adv_attent_v3 import CellCap as Module"
   ]
  },
  {
   "cell_type": "code",
   "execution_count": null,
   "id": "befd14fa",
   "metadata": {},
   "outputs": [],
   "source": [
    "import scvi\n",
    "import scanpy as sc\n",
    "import anndata\n",
    "import numpy as np\n",
    "import pandas as pd\n",
    "import umap\n",
    "import os\n",
    "import gc\n",
    "\n",
    "import matplotlib.pyplot as plt\n",
    "%matplotlib inline"
   ]
  },
  {
   "cell_type": "code",
   "execution_count": null,
   "id": "79cde680",
   "metadata": {},
   "outputs": [],
   "source": [
    "# directory where dataset is located\n",
    "\n",
    "DATA_DIR = 'data'"
   ]
  },
  {
   "cell_type": "markdown",
   "id": "9cf2c940",
   "metadata": {},
   "source": [
    "# Data"
   ]
  },
  {
   "cell_type": "code",
   "execution_count": null,
   "id": "e44108b4",
   "metadata": {},
   "outputs": [],
   "source": [
    "adata = anndata.read_h5ad(os.path.join(DATA_DIR, 'sc_levy_annotated_tiny.h5ad'))\n",
    "adata"
   ]
  },
  {
   "cell_type": "code",
   "execution_count": null,
   "id": "f170f03c",
   "metadata": {},
   "outputs": [],
   "source": [
    "pd.crosstab(adata.obs['donor'], adata.obs['perturbation'])"
   ]
  },
  {
   "cell_type": "markdown",
   "id": "8f79d830",
   "metadata": {},
   "source": [
    "## Limit to subset of genes"
   ]
  },
  {
   "cell_type": "code",
   "execution_count": null,
   "id": "9b59c825",
   "metadata": {},
   "outputs": [],
   "source": [
    "adata.var['n_umi'] = np.array(adata.X.sum(axis=0)).squeeze()"
   ]
  },
  {
   "cell_type": "code",
   "execution_count": null,
   "id": "c414fa2b",
   "metadata": {},
   "outputs": [],
   "source": [
    "plt.semilogy(np.sort(adata.var['n_umi'])[::-1])\n",
    "plt.xlabel('Gene (sorted)')\n",
    "plt.ylabel('Total UMI counts')\n",
    "plt.show()"
   ]
  },
  {
   "cell_type": "code",
   "execution_count": null,
   "id": "54db7470",
   "metadata": {},
   "outputs": [],
   "source": [
    "sc.pp.highly_variable_genes(adata, n_top_genes=10000, flavor='seurat_v3', subset=True, inplace=True)"
   ]
  },
  {
   "cell_type": "code",
   "execution_count": null,
   "id": "69f13bc4",
   "metadata": {},
   "outputs": [],
   "source": [
    "adata"
   ]
  },
  {
   "cell_type": "code",
   "execution_count": null,
   "id": "95ec5b56",
   "metadata": {},
   "outputs": [],
   "source": [
    "plt.semilogy(np.sort(adata.var['n_umi'])[::-1])\n",
    "plt.xlabel('Gene (sorted)')\n",
    "plt.ylabel('Total UMI counts')\n",
    "plt.show()"
   ]
  },
  {
   "cell_type": "code",
   "execution_count": null,
   "id": "95c33694",
   "metadata": {},
   "outputs": [],
   "source": [
    "adata = adata[:, adata.var['n_umi'] > 2].copy()\n",
    "adata"
   ]
  },
  {
   "cell_type": "code",
   "execution_count": null,
   "id": "6374ee0c",
   "metadata": {},
   "outputs": [],
   "source": [
    "plt.semilogy(np.sort(adata.var['n_umi'])[::-1])\n",
    "plt.xlabel('Gene (sorted)')\n",
    "plt.ylabel('Total UMI counts')\n",
    "plt.show()"
   ]
  },
  {
   "cell_type": "markdown",
   "id": "9bd3f78a",
   "metadata": {},
   "source": [
    "# Run tool"
   ]
  },
  {
   "cell_type": "markdown",
   "id": "3bbdcf79",
   "metadata": {},
   "source": [
    "## Set up model"
   ]
  },
  {
   "cell_type": "code",
   "execution_count": null,
   "id": "768d2866",
   "metadata": {},
   "outputs": [],
   "source": [
    "from typing import Tuple, List\n",
    "\n",
    "\n",
    "def get_one_hot(series: pd.Series) -> Tuple[np.ndarray, List[str]]:\n",
    "    \"\"\"Given a pandas Series that is categorical, return a \n",
    "    one-hot encoding.\n",
    "    \n",
    "    Args:\n",
    "        series: Pandas Series that is of categorical dtype\n",
    "        \n",
    "    Returns:\n",
    "        Numpy array that is a one-hot-encoded matrix,\n",
    "            shape is [len(series), series.nunique()]\n",
    "    \n",
    "    \"\"\"\n",
    "    return pd.get_dummies(series).to_numpy(), series.cat.categories.tolist()"
   ]
  },
  {
   "cell_type": "code",
   "execution_count": null,
   "id": "8901c58d",
   "metadata": {},
   "outputs": [],
   "source": [
    "# example\n",
    "\n",
    "get_one_hot(adata.obs['perturbation'])"
   ]
  },
  {
   "cell_type": "code",
   "execution_count": null,
   "id": "9dcf126d",
   "metadata": {},
   "outputs": [],
   "source": [
    "# Yang's definitions\n",
    "\n",
    "adata.obs['drug'] = adata.obs['perturbation'].apply(\n",
    "    lambda s: np.nan if s in ['control', 'DMSO', 'PBS'] else s,\n",
    ").astype('category')\n",
    "\n",
    "adata.obs['target'] = adata.obs['perturbation'].apply(\n",
    "    lambda s: np.nan if s in ['control'] else s,\n",
    ").astype('category')\n",
    "\n",
    "adata.obs['control'] = adata.obs['perturbation'].apply(\n",
    "    lambda s: True if (s == 'control') else False,\n",
    ").astype('category')"
   ]
  },
  {
   "cell_type": "code",
   "execution_count": null,
   "id": "4f9ce871",
   "metadata": {},
   "outputs": [],
   "source": [
    "# put relevant one-hot encodings into adata.obsm slots\n",
    "\n",
    "for key in ['drug', 'target', 'donor', 'control']:\n",
    "    adata.obsm[f'X_{key}'], _ = get_one_hot(adata.obs[key])"
   ]
  },
  {
   "cell_type": "code",
   "execution_count": null,
   "id": "a97be2e1",
   "metadata": {},
   "outputs": [],
   "source": [
    "# store count data in a layer\n",
    "\n",
    "adata.layers['counts'] = adata.X.copy()"
   ]
  },
  {
   "cell_type": "code",
   "execution_count": null,
   "id": "bb7dcf7b",
   "metadata": {},
   "outputs": [],
   "source": [
    "adata"
   ]
  },
  {
   "cell_type": "code",
   "execution_count": null,
   "id": "32a6f81a",
   "metadata": {},
   "outputs": [],
   "source": [
    "# number of transcriptional response programs\n",
    "n_prog = 5"
   ]
  },
  {
   "cell_type": "code",
   "execution_count": null,
   "id": "68e3b4e8",
   "metadata": {},
   "outputs": [],
   "source": [
    "Module.setup_anndata(\n",
    "    adata, \n",
    "    labels_key='control',\n",
    "    pert_key='perturbation',\n",
    "    layer='counts',\n",
    "    cond_key='X_drug',\n",
    "    cont_key='X_control',\n",
    "    target_key='X_target',\n",
    "    donor_key='X_donor',\n",
    ")"
   ]
  },
  {
   "cell_type": "code",
   "execution_count": null,
   "id": "a8c06f8f",
   "metadata": {},
   "outputs": [],
   "source": [
    "latent_dim = 20\n",
    "hidden_layers = 3\n",
    "\n",
    "cpa = Module(\n",
    "    adata, \n",
    "    n_latent=latent_dim, \n",
    "    n_layers=hidden_layers, \n",
    "    n_drug=adata.obs['drug'].nunique(),\n",
    "    n_control=adata.obs['control'].nunique(),\n",
    "    n_target=adata.obs['target'].nunique(),\n",
    "    n_donor=adata.obs['donor'].nunique(),\n",
    "    n_prog=n_prog,\n",
    ")"
   ]
  },
  {
   "cell_type": "markdown",
   "id": "15370211",
   "metadata": {},
   "source": [
    "## Train"
   ]
  },
  {
   "cell_type": "code",
   "execution_count": null,
   "id": "61d02d0e",
   "metadata": {
    "scrolled": true
   },
   "outputs": [],
   "source": [
    "cpa.train(max_epochs=100, batch_size=512)"
   ]
  },
  {
   "cell_type": "code",
   "execution_count": null,
   "id": "098de2c4",
   "metadata": {},
   "outputs": [],
   "source": [
    "# training loss\n",
    "\n",
    "plt.plot(cpa.history['train_loss_epoch']['train_loss_epoch'], label='Training set')\n",
    "plt.plot(cpa.history['validation_loss']['validation_loss'], label='Validation set')\n",
    "plt.ylabel('Loss')\n",
    "plt.xlabel('Epoch')\n",
    "plt.legend()\n",
    "plt.show()"
   ]
  },
  {
   "cell_type": "markdown",
   "id": "259b32fe",
   "metadata": {},
   "source": [
    "# Exploration"
   ]
  },
  {
   "cell_type": "markdown",
   "id": "12c2ce3d",
   "metadata": {},
   "source": [
    "## Latent space"
   ]
  },
  {
   "cell_type": "markdown",
   "id": "fbb78126",
   "metadata": {},
   "source": [
    "### Computation"
   ]
  },
  {
   "cell_type": "code",
   "execution_count": null,
   "id": "5b379403",
   "metadata": {},
   "outputs": [],
   "source": [
    "z = cpa.get_latent_embedding(adata)"
   ]
  },
  {
   "cell_type": "code",
   "execution_count": null,
   "id": "8067fb70",
   "metadata": {},
   "outputs": [],
   "source": [
    "adata.obsm['X_basal'] = z"
   ]
  },
  {
   "cell_type": "code",
   "execution_count": null,
   "id": "05fe17c2",
   "metadata": {},
   "outputs": [],
   "source": [
    "z_pert, z_attn = cpa.get_pert_embedding(adata)"
   ]
  },
  {
   "cell_type": "code",
   "execution_count": null,
   "id": "e08fd17a",
   "metadata": {},
   "outputs": [],
   "source": [
    "adata.obsm['X_pert'] = z_pert\n",
    "adata.obsm['X_attn'] = z_attn"
   ]
  },
  {
   "cell_type": "code",
   "execution_count": null,
   "id": "d3e3e670",
   "metadata": {},
   "outputs": [],
   "source": [
    "adata"
   ]
  },
  {
   "cell_type": "code",
   "execution_count": null,
   "id": "92a13bbf",
   "metadata": {},
   "outputs": [],
   "source": [
    "for k in ['basal', 'pert', 'attn']:\n",
    "    print(f'Shape of \"X_{k}\" is {adata.obsm[f\"X_{k}\"].shape}')"
   ]
  },
  {
   "cell_type": "markdown",
   "id": "fef36433",
   "metadata": {},
   "source": [
    "### Metrics"
   ]
  },
  {
   "cell_type": "markdown",
   "id": "b8a34dd7",
   "metadata": {},
   "source": [
    "Vector component values."
   ]
  },
  {
   "cell_type": "code",
   "execution_count": null,
   "id": "edf342af",
   "metadata": {},
   "outputs": [],
   "source": [
    "for k in ['basal', 'pert', 'attn']:\n",
    "    plt.figure(figsize=(12, 2))\n",
    "    plt.subplot(1, 2, 1)\n",
    "    plt.hist(adata.obsm[f'X_{k}'].flatten(), bins=100, log=False)\n",
    "    plt.xlabel('Vector component value')\n",
    "    plt.ylabel('Number of components \\n(N times Q total)')\n",
    "    plt.title(f'Components of {k} vectors')\n",
    "    plt.subplot(1, 2, 2)\n",
    "    plt.hist(adata.obsm[f'X_{k}'].flatten(), bins=100, log=True)\n",
    "    plt.xlabel('Vector component value')\n",
    "    plt.ylabel('Number of components \\n(N times Q total)')\n",
    "    plt.title(f'Components of {k} vectors')\n",
    "    plt.tight_layout()\n",
    "    plt.show()"
   ]
  },
  {
   "cell_type": "markdown",
   "id": "d4e18229",
   "metadata": {},
   "source": [
    "Vector lengths."
   ]
  },
  {
   "cell_type": "code",
   "execution_count": null,
   "id": "a8932223",
   "metadata": {},
   "outputs": [],
   "source": [
    "basal_lengths = np.linalg.norm(adata.obsm['X_basal'], axis=1)\n",
    "pert_lengths = np.linalg.norm(adata.obsm['X_pert'], axis=1)\n",
    "\n",
    "bins = np.linspace(0, max(basal_lengths.max(), pert_lengths.max()), 50)\n",
    "\n",
    "plt.figure(figsize=(12, 2))\n",
    "plt.subplot(1, 2, 1)\n",
    "plt.hist(basal_lengths, bins=bins, log=False)\n",
    "plt.xlabel('Vector length')\n",
    "plt.ylabel('Number of vectors \\n(N total)')\n",
    "plt.title('basal')\n",
    "plt.subplot(1, 2, 2)\n",
    "plt.hist(basal_lengths, bins=bins, log=True)\n",
    "plt.xlabel('Vector length')\n",
    "plt.ylabel('Number of vectors \\n(N total)')\n",
    "plt.title('basal')\n",
    "plt.tight_layout()\n",
    "plt.show()\n",
    "\n",
    "plt.figure(figsize=(12, 2))\n",
    "plt.subplot(1, 2, 1)\n",
    "plt.hist(pert_lengths, bins=bins, log=False)\n",
    "plt.xlabel('Vector length')\n",
    "plt.ylabel('Number of vectors \\n(N total)')\n",
    "plt.title('pert')\n",
    "plt.subplot(1, 2, 2)\n",
    "plt.hist(pert_lengths, bins=bins, log=True)\n",
    "plt.xlabel('Vector length')\n",
    "plt.ylabel('Number of vectors \\n(N total)')\n",
    "plt.title('pert')\n",
    "plt.tight_layout()\n",
    "plt.show()"
   ]
  },
  {
   "cell_type": "markdown",
   "id": "e91e0362",
   "metadata": {},
   "source": [
    "### Visualization"
   ]
  },
  {
   "cell_type": "code",
   "execution_count": null,
   "id": "dce5e1b2",
   "metadata": {},
   "outputs": [],
   "source": [
    "for k in ['basal', 'pert']:\n",
    "    \n",
    "    print(f'Constructing UMAP for \"{k}\"...')\n",
    "\n",
    "    adata.obsm[f'X_{k}_umap'] = umap.UMAP(\n",
    "        n_neighbors=10, \n",
    "        min_dist=0.1, \n",
    "        n_components=2, \n",
    "        metric='euclidean',\n",
    "    ).fit_transform(adata.obsm[f'X_{k}'])\n",
    "    \n",
    "print('done.')"
   ]
  },
  {
   "cell_type": "code",
   "execution_count": null,
   "id": "ee79068c",
   "metadata": {},
   "outputs": [],
   "source": [
    "for k in ['basal', 'pert']:\n",
    "    plt.figure(figsize=(12, 3))\n",
    "    \n",
    "    plt.subplot(1, 3, 1)\n",
    "    sc.pl.embedding(adata, basis=f'{k}_umap', na_color='k', show=False, ax=plt.gca())\n",
    "    plt.title(k)\n",
    "    \n",
    "    plt.subplot(1, 3, 2)\n",
    "    sc.pl.embedding(adata, basis=f'{k}_umap', color='donor', show=False, ax=plt.gca())\n",
    "    plt.title(k)\n",
    "    \n",
    "    plt.subplot(1, 3, 3)\n",
    "    sc.pl.embedding(adata, basis=f'{k}_umap', color='perturbation', show=False, ax=plt.gca())\n",
    "    plt.title(k)\n",
    "    \n",
    "    plt.tight_layout()\n",
    "    \n",
    "    plt.show()"
   ]
  },
  {
   "cell_type": "code",
   "execution_count": null,
   "id": "bebc1b2c-0dde-43ff-9cba-2911e6211f7d",
   "metadata": {},
   "outputs": [],
   "source": []
  }
 ],
 "metadata": {
  "environment": {
   "kernel": "conda-env-scvi-env-py",
   "name": "common-cu113.m91",
   "type": "gcloud",
   "uri": "gcr.io/deeplearning-platform-release/base-cu113:m91"
  },
  "kernelspec": {
   "display_name": "Python 3 (ipykernel)",
   "language": "python",
   "name": "python3"
  },
  "language_info": {
   "codemirror_mode": {
    "name": "ipython",
    "version": 3
   },
   "file_extension": ".py",
   "mimetype": "text/x-python",
   "name": "python",
   "nbconvert_exporter": "python",
   "pygments_lexer": "ipython3",
   "version": "3.7.15"
  },
  "toc": {
   "base_numbering": 1,
   "nav_menu": {},
   "number_sections": true,
   "sideBar": true,
   "skip_h1_title": false,
   "title_cell": "Table of Contents",
   "title_sidebar": "Contents",
   "toc_cell": false,
   "toc_position": {},
   "toc_section_display": true,
   "toc_window_display": true
  }
 },
 "nbformat": 4,
 "nbformat_minor": 5
}

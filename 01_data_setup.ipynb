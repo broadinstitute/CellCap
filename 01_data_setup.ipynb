{
 "cells": [
  {
   "cell_type": "code",
   "execution_count": 6,
   "id": "90f04412-80c4-4c43-ac0b-4ad5c9fa09d6",
   "metadata": {},
   "outputs": [],
   "source": [
    "import gc\n",
    "import collections\n",
    "import numpy as np\n",
    "import pandas as pd\n",
    "import scanpy as sc"
   ]
  },
  {
   "cell_type": "code",
   "execution_count": 2,
   "id": "c8411a5e-6f06-4f39-a438-67a295ab1ca2",
   "metadata": {},
   "outputs": [],
   "source": [
    "adata = sc.read_h5ad('../data/scLevyAll.h5ad')\n",
    "batch = ['a','b','c','d','e','f','g','h']"
   ]
  },
  {
   "cell_type": "code",
   "execution_count": 3,
   "id": "48c587f0-a3a3-4800-b223-1c338bd66a47",
   "metadata": {},
   "outputs": [],
   "source": [
    "metadata = pd.read_csv('../data/scLevyAll_metadata.txt',sep='\\t',header=0,index_col=False)\n",
    "index = [metadata['PREFIX'][i]+'_'+metadata['CELL_BARCODE'][i] for i in range(metadata.shape[0])]\n",
    "metadata.index = index\n",
    "metadata = metadata.loc[adata.obs.index]\n",
    "adata.obs = metadata"
   ]
  },
  {
   "cell_type": "code",
   "execution_count": 4,
   "id": "6c6cca5b-8cca-422c-b648-4daa25ffcefd",
   "metadata": {},
   "outputs": [],
   "source": [
    "cohort_info = pd.read_csv('../data/McleanLevy_Dropulation_Cohort.csv',header=0,index_col=False)"
   ]
  },
  {
   "cell_type": "code",
   "execution_count": 7,
   "id": "71f29613-97c0-4f9f-8995-7c6bd163dd60",
   "metadata": {},
   "outputs": [
    {
     "data": {
      "text/plain": [
       "472"
      ]
     },
     "execution_count": 7,
     "metadata": {},
     "output_type": "execute_result"
    }
   ],
   "source": [
    "gc.collect()"
   ]
  },
  {
   "cell_type": "code",
   "execution_count": 8,
   "id": "997759b6-3b68-4dcf-8163-18af56fdcf9b",
   "metadata": {},
   "outputs": [],
   "source": [
    "names = adata.obs.index\n",
    "celltype = []\n",
    "condition = []\n",
    "for i in names:\n",
    "    s = i.split(\"_\")\n",
    "    celltype.append(s[0])\n",
    "    if s[1] in batch:\n",
    "        condition.append('Control')\n",
    "    else:\n",
    "        condition.append(s[1])\n",
    "    \n",
    "adata.obs['cell_type']=celltype\n",
    "adata.obs['condition']=condition\n",
    "\n",
    "##Downsample to 20%\n",
    "sc.pp.subsample(adata, fraction=0.2)\n",
    "\n",
    "##Only keep neuron cells\n",
    "adata = adata[adata.obs['cell_type']!='Astrocyte']\n",
    "adata = adata[adata.obs['cell_type']!='iPSC']\n",
    "adata = adata[adata.obs['cell_type']!='NPC']\n",
    "\n",
    "gc.collect()\n",
    "adata.layers[\"counts\"] = adata.X.copy()"
   ]
  },
  {
   "cell_type": "code",
   "execution_count": 9,
   "id": "16ab4908-17b2-48ad-ab8d-7d0fbfdc8bf2",
   "metadata": {},
   "outputs": [],
   "source": [
    "##Select HVGs for training model\n",
    "sc.pp.normalize_total(adata, target_sum=1e4)\n",
    "sc.pp.log1p(adata)\n",
    "\n",
    "sc.pp.filter_genes(adata, min_cells=500)\n",
    "adata.raw = adata\n",
    "\n",
    "sc.pp.highly_variable_genes(adata, flavor='seurat_v3', layer='counts', n_top_genes=3000, subset=True)"
   ]
  },
  {
   "cell_type": "code",
   "execution_count": 10,
   "id": "98865680-6b6f-4e9c-bba0-9c8b3dcb2429",
   "metadata": {},
   "outputs": [],
   "source": [
    "cohort = {'Clinical':[],'Sex':[],'Age':[]}\n",
    "for i in range(adata.X.shape[0]):\n",
    "    donor = adata.obs['DONOR'][i]\n",
    "    sub_cohort = cohort_info[cohort_info['Linking Donor ID']==donor]\n",
    "    if sub_cohort.shape[0]>0:\n",
    "        cohort['Clinical'].append(sub_cohort['Clinical Diagnosis'].values[0])\n",
    "        cohort['Sex'].append(sub_cohort['Sex'].values[0])\n",
    "        cohort['Age'].append(sub_cohort['Age'].values[0])\n",
    "    else:\n",
    "        cohort['Clinical'].append(np.nan)\n",
    "        cohort['Sex'].append(np.nan)\n",
    "        cohort['Age'].append(np.nan)\n",
    "        \n",
    "cohort = pd.DataFrame(cohort)\n",
    "\n",
    "adata.obs['Clinical'] = cohort['Clinical'].values\n",
    "adata.obs['Sex'] = cohort['Sex'].values\n",
    "adata.obs['Age'] = cohort['Age'].values"
   ]
  },
  {
   "cell_type": "code",
   "execution_count": 11,
   "id": "dbc6590f-2132-4223-bad4-4ebdd1391fc3",
   "metadata": {},
   "outputs": [],
   "source": [
    "controls = np.repeat(0,adata.X.shape[0])\n",
    "controls[adata.obs['condition']=='Control']=1\n",
    "adata.obs['control']=controls"
   ]
  },
  {
   "cell_type": "code",
   "execution_count": 12,
   "id": "7c2f21bd-b411-4f08-9ec8-e8c37ce2c6c7",
   "metadata": {},
   "outputs": [],
   "source": [
    "adata.write(\"../data/scLevyAll_neuron20.h5ad\")"
   ]
  },
  {
   "cell_type": "code",
   "execution_count": null,
   "id": "75366676-81ca-4687-8d9d-73ac0a11178d",
   "metadata": {},
   "outputs": [],
   "source": []
  }
 ],
 "metadata": {
  "environment": {
   "kernel": "conda-env-scvi-env-py",
   "name": "common-cu113.m91",
   "type": "gcloud",
   "uri": "gcr.io/deeplearning-platform-release/base-cu113:m91"
  },
  "kernelspec": {
   "display_name": "Python [conda env:scvi-env]",
   "language": "python",
   "name": "conda-env-scvi-env-py"
  },
  "language_info": {
   "codemirror_mode": {
    "name": "ipython",
    "version": 3
   },
   "file_extension": ".py",
   "mimetype": "text/x-python",
   "name": "python",
   "nbconvert_exporter": "python",
   "pygments_lexer": "ipython3",
   "version": "3.9.13"
  }
 },
 "nbformat": 4,
 "nbformat_minor": 5
}

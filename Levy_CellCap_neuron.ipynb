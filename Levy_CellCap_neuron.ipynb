{
 "cells": [
  {
   "cell_type": "code",
   "execution_count": 1,
   "id": "fec16ed9-f51e-430e-b738-abd414f3f53d",
   "metadata": {},
   "outputs": [],
   "source": [
    "import time\n",
    "import umap\n",
    "\n",
    "import torch\n",
    "import collections\n",
    "import numpy as np\n",
    "import pandas as pd\n",
    "import scanpy as sc\n",
    "\n",
    "from scipy.sparse import csr_matrix\n",
    "\n",
    "import seaborn as sns\n",
    "import matplotlib.pyplot as plt"
   ]
  },
  {
   "cell_type": "code",
   "execution_count": 2,
   "id": "897ca19d-0584-41fd-8f24-dc460ceac584",
   "metadata": {},
   "outputs": [],
   "source": [
    "from sklearn import linear_model\n",
    "from sklearn.preprocessing import MinMaxScaler\n",
    "from sklearn.preprocessing import StandardScaler\n",
    "from sklearn.linear_model import LinearRegression"
   ]
  },
  {
   "cell_type": "code",
   "execution_count": 3,
   "id": "7633cade-39e9-4460-9461-5ef0c43263e3",
   "metadata": {},
   "outputs": [
    {
     "name": "stderr",
     "output_type": "stream",
     "text": [
      "Global seed set to 0\n"
     ]
    },
    {
     "name": "stdout",
     "output_type": "stream",
     "text": [
      "[easydl] tensorflow not available!\n"
     ]
    }
   ],
   "source": [
    "import scvi\n",
    "import VariationalCPA_adv_attent_v3 as CellCap"
   ]
  },
  {
   "cell_type": "code",
   "execution_count": null,
   "id": "59608186-cbce-44e2-b883-ab3e065725b4",
   "metadata": {},
   "outputs": [],
   "source": []
  },
  {
   "cell_type": "markdown",
   "id": "1e3faacf-01d5-43b1-bd3d-d72226ddf7ba",
   "metadata": {},
   "source": [
    "Read data"
   ]
  },
  {
   "cell_type": "code",
   "execution_count": 4,
   "id": "5447dd15",
   "metadata": {},
   "outputs": [],
   "source": [
    "##read expression anndata data\n",
    "adata = sc.read_h5ad('../data/scLevyAll.h5ad')\n",
    "batch = ['a','b','c','d','e','f','g','h']"
   ]
  },
  {
   "cell_type": "code",
   "execution_count": 5,
   "id": "9069231d-44fd-4a95-9b7d-72ee9081b844",
   "metadata": {},
   "outputs": [],
   "source": [
    "##read metadata\n",
    "metadata = pd.read_csv('../data/scLevyAll_metadata.txt',sep='\\t',header=0,index_col=False)\n",
    "index = [metadata['PREFIX'][i]+'_'+metadata['CELL_BARCODE'][i] for i in range(metadata.shape[0])]\n",
    "metadata.index = index\n",
    "metadata = metadata.loc[adata.obs.index]\n",
    "adata.obs = metadata"
   ]
  },
  {
   "cell_type": "code",
   "execution_count": 8,
   "id": "07d42083-2616-4ece-b525-72f1a87ea291",
   "metadata": {},
   "outputs": [],
   "source": [
    "##read donor info\n",
    "cohort_info = pd.read_csv('../data/McleanLevy_Dropulation_Cohort.csv',header=0,index_col=False)"
   ]
  },
  {
   "cell_type": "code",
   "execution_count": 9,
   "id": "d692d198",
   "metadata": {},
   "outputs": [
    {
     "data": {
      "text/plain": [
       "0"
      ]
     },
     "execution_count": 9,
     "metadata": {},
     "output_type": "execute_result"
    }
   ],
   "source": [
    "import gc\n",
    "gc.collect()"
   ]
  },
  {
   "cell_type": "code",
   "execution_count": 10,
   "id": "f6045e21-3101-467f-a615-c9acbc0252ec",
   "metadata": {},
   "outputs": [],
   "source": [
    "##downsampling\n",
    "names = adata.obs.index\n",
    "celltype = []\n",
    "condition = []\n",
    "for i in names:\n",
    "    s = i.split(\"_\")\n",
    "    celltype.append(s[0])\n",
    "    if s[1] in batch:\n",
    "        condition.append('Control')\n",
    "    else:\n",
    "        condition.append(s[1])\n",
    "    \n",
    "adata.obs['cell_type']=celltype\n",
    "adata.obs['condition']=condition\n",
    "sc.pp.subsample(adata, fraction=0.3)\n",
    "adata = adata[adata.obs['cell_type']!='Astrocyte']\n",
    "#adata = adata[adata.obs['cell_type']!='Neuron']\n",
    "adata = adata[adata.obs['cell_type']!='iPSC']\n",
    "adata = adata[adata.obs['cell_type']!='NPC']\n",
    "gc.collect()\n",
    "adata.layers[\"counts\"] = adata.X.copy()"
   ]
  },
  {
   "cell_type": "code",
   "execution_count": null,
   "id": "b55b35c7-faad-4553-bcdf-c18550dea22d",
   "metadata": {},
   "outputs": [],
   "source": []
  },
  {
   "cell_type": "markdown",
   "id": "606c415d-e7ba-431b-bb31-3d35fa38883d",
   "metadata": {},
   "source": [
    "A few common steps of data preprocessing"
   ]
  },
  {
   "cell_type": "code",
   "execution_count": 11,
   "id": "8180ea88-e9ff-4f80-8a76-deba51420e0f",
   "metadata": {},
   "outputs": [],
   "source": [
    "adata.var['mt'] = adata.var_names.str.startswith('MT-')  # annotate the group of mitochondrial genes as 'mt'\n",
    "sc.pp.calculate_qc_metrics(adata, qc_vars=['mt'], percent_top=None, log1p=False, inplace=True)"
   ]
  },
  {
   "cell_type": "code",
   "execution_count": 13,
   "id": "dbe1bb02-d48f-44d9-bcd7-83daa7ca5b12",
   "metadata": {},
   "outputs": [],
   "source": [
    "adata = adata[adata.obs.n_genes_by_counts <= 4500, :]\n",
    "adata = adata[adata.obs.pct_counts_mt <= 20, :]"
   ]
  },
  {
   "cell_type": "code",
   "execution_count": 14,
   "id": "95cbd02c-7056-4313-a665-371163a44826",
   "metadata": {},
   "outputs": [],
   "source": [
    "sc.pp.normalize_total(adata, target_sum=1e4)\n",
    "sc.pp.log1p(adata)\n",
    "#sc.pp.subsample(adata, fraction=0.3)\n",
    "sc.pp.filter_genes(adata, min_cells=500)\n",
    "adata.raw = adata\n",
    "\n",
    "sc.pp.highly_variable_genes(adata, flavor='seurat_v3', layer='counts', n_top_genes=3000, subset=True)"
   ]
  },
  {
   "cell_type": "code",
   "execution_count": null,
   "id": "c1ff6c02-5e8a-4ff5-bd60-343e13ccb3d8",
   "metadata": {},
   "outputs": [],
   "source": []
  },
  {
   "cell_type": "markdown",
   "id": "b8e7acf5-868b-414e-8c65-22d66808166e",
   "metadata": {},
   "source": [
    "Add donor and clinical info to anndata"
   ]
  },
  {
   "cell_type": "code",
   "execution_count": 15,
   "id": "3d45d275-5da7-4f98-95ef-8a7ef55f3a44",
   "metadata": {},
   "outputs": [],
   "source": [
    "cohort = {'Clinical':[],'Sex':[],'Age':[]}\n",
    "for i in range(adata.X.shape[0]):\n",
    "    donor = adata.obs['DONOR'][i]\n",
    "    sub_cohort = cohort_info[cohort_info['Linking Donor ID']==donor]\n",
    "    if sub_cohort.shape[0]>0:\n",
    "        cohort['Clinical'].append(sub_cohort['Clinical Diagnosis'].values[0])\n",
    "        cohort['Sex'].append(sub_cohort['Sex'].values[0])\n",
    "        cohort['Age'].append(sub_cohort['Age'].values[0])\n",
    "    else:\n",
    "        cohort['Clinical'].append(np.nan)\n",
    "        cohort['Sex'].append(np.nan)\n",
    "        cohort['Age'].append(np.nan)\n",
    "        \n",
    "cohort = pd.DataFrame(cohort)\n",
    "\n",
    "adata.obs['Clinical'] = cohort['Clinical'].values\n",
    "adata.obs['Sex'] = cohort['Sex'].values\n",
    "adata.obs['Age'] = cohort['Age'].values"
   ]
  },
  {
   "cell_type": "code",
   "execution_count": 16,
   "id": "ee2a5349-a077-459c-972a-62650057e1bc",
   "metadata": {},
   "outputs": [],
   "source": [
    "controls = np.repeat(0,adata.X.shape[0])\n",
    "controls[adata.obs['condition']=='Control']=1\n",
    "#controls[adata.obs['condition']=='PBS']=1\n",
    "#controls[adata.obs['condition']=='DMSO']=1\n",
    "adata.obs['control']=controls"
   ]
  },
  {
   "cell_type": "code",
   "execution_count": 17,
   "id": "40faebdc-dc52-4736-a3b9-8e261e35d53d",
   "metadata": {},
   "outputs": [
    {
     "data": {
      "text/html": [
       "<div>\n",
       "<style scoped>\n",
       "    .dataframe tbody tr th:only-of-type {\n",
       "        vertical-align: middle;\n",
       "    }\n",
       "\n",
       "    .dataframe tbody tr th {\n",
       "        vertical-align: top;\n",
       "    }\n",
       "\n",
       "    .dataframe thead th {\n",
       "        text-align: right;\n",
       "    }\n",
       "</style>\n",
       "<table border=\"1\" class=\"dataframe\">\n",
       "  <thead>\n",
       "    <tr style=\"text-align: right;\">\n",
       "      <th></th>\n",
       "      <th>Perturbation</th>\n",
       "      <th>Category</th>\n",
       "      <th>Vehicle</th>\n",
       "    </tr>\n",
       "  </thead>\n",
       "  <tbody>\n",
       "    <tr>\n",
       "      <th>0</th>\n",
       "      <td>A1CYTO</td>\n",
       "      <td>Inflammatory response</td>\n",
       "      <td>PBS</td>\n",
       "    </tr>\n",
       "    <tr>\n",
       "      <th>1</th>\n",
       "      <td>ATOR</td>\n",
       "      <td>Cholesterol biosynthesis</td>\n",
       "      <td>DMSO</td>\n",
       "    </tr>\n",
       "    <tr>\n",
       "      <th>2</th>\n",
       "      <td>AZT</td>\n",
       "      <td>Oxidative stress</td>\n",
       "      <td>DMSO</td>\n",
       "    </tr>\n",
       "    <tr>\n",
       "      <th>3</th>\n",
       "      <td>C1Q</td>\n",
       "      <td>Inflammatory response</td>\n",
       "      <td>PBS</td>\n",
       "    </tr>\n",
       "    <tr>\n",
       "      <th>4</th>\n",
       "      <td>CLOZ</td>\n",
       "      <td>Antipsychotic</td>\n",
       "      <td>DMSO</td>\n",
       "    </tr>\n",
       "    <tr>\n",
       "      <th>5</th>\n",
       "      <td>DMSO</td>\n",
       "      <td>Vehicle control</td>\n",
       "      <td>DMSO</td>\n",
       "    </tr>\n",
       "    <tr>\n",
       "      <th>6</th>\n",
       "      <td>EFA</td>\n",
       "      <td>Cholesterol biosynthesis</td>\n",
       "      <td>DMSO</td>\n",
       "    </tr>\n",
       "    <tr>\n",
       "      <th>7</th>\n",
       "      <td>GluN2a</td>\n",
       "      <td>NMDA/excitability</td>\n",
       "      <td>PBS</td>\n",
       "    </tr>\n",
       "    <tr>\n",
       "      <th>8</th>\n",
       "      <td>GLUT</td>\n",
       "      <td>NMDA/excitability</td>\n",
       "      <td>PBS</td>\n",
       "    </tr>\n",
       "    <tr>\n",
       "      <th>9</th>\n",
       "      <td>H2O2</td>\n",
       "      <td>Oxidative stress</td>\n",
       "      <td>PBS</td>\n",
       "    </tr>\n",
       "    <tr>\n",
       "      <th>10</th>\n",
       "      <td>HALO</td>\n",
       "      <td>Antipsychotic</td>\n",
       "      <td>DMSO</td>\n",
       "    </tr>\n",
       "    <tr>\n",
       "      <th>11</th>\n",
       "      <td>IL1a</td>\n",
       "      <td>Inflammatory response</td>\n",
       "      <td>PBS</td>\n",
       "    </tr>\n",
       "    <tr>\n",
       "      <th>12</th>\n",
       "      <td>INFa</td>\n",
       "      <td>Inflammatory response</td>\n",
       "      <td>PBS</td>\n",
       "    </tr>\n",
       "    <tr>\n",
       "      <th>13</th>\n",
       "      <td>INFy</td>\n",
       "      <td>Inflammatory response</td>\n",
       "      <td>PBS</td>\n",
       "    </tr>\n",
       "    <tr>\n",
       "      <th>14</th>\n",
       "      <td>ISRD</td>\n",
       "      <td>NMDA/excitability</td>\n",
       "      <td>DMSO</td>\n",
       "    </tr>\n",
       "    <tr>\n",
       "      <th>15</th>\n",
       "      <td>PBS</td>\n",
       "      <td>Vehicle control</td>\n",
       "      <td>PBS</td>\n",
       "    </tr>\n",
       "    <tr>\n",
       "      <th>16</th>\n",
       "      <td>SIM</td>\n",
       "      <td>Cholesterol biosynthesis</td>\n",
       "      <td>DMSO</td>\n",
       "    </tr>\n",
       "    <tr>\n",
       "      <th>17</th>\n",
       "      <td>TNFa</td>\n",
       "      <td>Inflammatory response</td>\n",
       "      <td>PBS</td>\n",
       "    </tr>\n",
       "    <tr>\n",
       "      <th>18</th>\n",
       "      <td>Control</td>\n",
       "      <td>Control</td>\n",
       "      <td>Control</td>\n",
       "    </tr>\n",
       "  </tbody>\n",
       "</table>\n",
       "</div>"
      ],
      "text/plain": [
       "   Perturbation                  Category  Vehicle\n",
       "0        A1CYTO     Inflammatory response      PBS\n",
       "1          ATOR  Cholesterol biosynthesis     DMSO\n",
       "2           AZT          Oxidative stress     DMSO\n",
       "3           C1Q     Inflammatory response      PBS\n",
       "4          CLOZ             Antipsychotic     DMSO\n",
       "5          DMSO           Vehicle control     DMSO\n",
       "6           EFA  Cholesterol biosynthesis     DMSO\n",
       "7        GluN2a         NMDA/excitability      PBS\n",
       "8          GLUT         NMDA/excitability      PBS\n",
       "9          H2O2          Oxidative stress      PBS\n",
       "10         HALO             Antipsychotic     DMSO\n",
       "11         IL1a     Inflammatory response      PBS\n",
       "12         INFa     Inflammatory response      PBS\n",
       "13         INFy     Inflammatory response      PBS\n",
       "14         ISRD         NMDA/excitability     DMSO\n",
       "15          PBS           Vehicle control      PBS\n",
       "16          SIM  Cholesterol biosynthesis     DMSO\n",
       "17         TNFa     Inflammatory response      PBS\n",
       "18      Control                   Control  Control"
      ]
     },
     "execution_count": 17,
     "metadata": {},
     "output_type": "execute_result"
    }
   ],
   "source": [
    "drugtype = pd.read_csv('../data/LevyDrug_class.csv',header=0,index_col=False)\n",
    "drugtype"
   ]
  },
  {
   "cell_type": "code",
   "execution_count": null,
   "id": "90fddff5-a5cb-4e40-a18a-9e5b6a9185e6",
   "metadata": {},
   "outputs": [],
   "source": []
  },
  {
   "cell_type": "markdown",
   "id": "0feaf589-110c-4b5b-bd1c-f6de80db4056",
   "metadata": {},
   "source": [
    "Prepare inputs for model\n",
    "\n",
    "This includes:\n",
    "\n",
    "a. perturbation info\n",
    "\n",
    "b. label for control group"
   ]
  },
  {
   "cell_type": "code",
   "execution_count": 18,
   "id": "c2e2e971",
   "metadata": {},
   "outputs": [],
   "source": [
    "codes, uniques = pd.factorize(adata.obs['condition'])\n",
    "uniques = list(uniques)\n",
    "adata.obs['Condition']=codes\n",
    "drugY = np.zeros((len(codes),len(uniques)))\n",
    "for i in range(len(codes)):\n",
    "    j = codes[i]\n",
    "    drugY[i,j]=1\n",
    "drugY[:,uniques.index('Control')]=0\n",
    "drugY[:,uniques.index('DMSO')]=0\n",
    "drugY[:,uniques.index('PBS')]=0\n",
    "drugY = drugY[:,np.sum(drugY,0)>0]"
   ]
  },
  {
   "cell_type": "code",
   "execution_count": 19,
   "id": "341522da-0a56-4921-a281-3841011ba4d9",
   "metadata": {},
   "outputs": [],
   "source": [
    "drug_names = uniques.copy()\n",
    "drug_names.remove('Control')\n",
    "drug_names.remove('DMSO')\n",
    "drug_names.remove('PBS')"
   ]
  },
  {
   "cell_type": "code",
   "execution_count": 20,
   "id": "1222b24a-23c9-4c22-a0af-dce56c846ed8",
   "metadata": {},
   "outputs": [],
   "source": [
    "contY = np.zeros((len(codes),len(uniques)))\n",
    "for i in range(len(codes)):\n",
    "    j = codes[i]\n",
    "    sub_drugtype = drugtype[drugtype['Perturbation']==uniques[j]]\n",
    "    index = uniques.index(sub_drugtype['Vehicle'].values[0])\n",
    "    contY[i,index]=1\n",
    "contY[:,uniques.index('Control')]=0\n",
    "contY = contY[:,np.sum(contY,0)>0]"
   ]
  },
  {
   "cell_type": "code",
   "execution_count": 21,
   "id": "f6f4c19d-6806-4c85-9fb7-1db623844832",
   "metadata": {},
   "outputs": [],
   "source": [
    "target_label = np.zeros((len(codes),len(uniques)))\n",
    "for i in range(len(codes)):\n",
    "    j = codes[i]\n",
    "    target_label[i,j]=1\n",
    "    sub_drugtype = drugtype[drugtype['Perturbation']==uniques[j]]\n",
    "    index = uniques.index(sub_drugtype['Vehicle'].values[0])\n",
    "    target_label[i,index]=1\n",
    "target_label[:,uniques.index('Control')]=0\n",
    "target_label = target_label[:,np.sum(target_label,0)>0]"
   ]
  },
  {
   "cell_type": "code",
   "execution_count": 23,
   "id": "19717e79-f8bb-4735-93e8-37e230a6bfea",
   "metadata": {},
   "outputs": [],
   "source": [
    "vehicles=[]\n",
    "for i in range(len(codes)):\n",
    "    j = codes[i]\n",
    "    sub_drugtype = drugtype[drugtype['Perturbation']==uniques[j]]\n",
    "    vehicles.append(sub_drugtype['Vehicle'].values[0])\n",
    "adata.obs['Vehicle']=vehicles"
   ]
  },
  {
   "cell_type": "code",
   "execution_count": 25,
   "id": "a9474b76",
   "metadata": {},
   "outputs": [
    {
     "name": "stdout",
     "output_type": "stream",
     "text": [
      "(130089, 13)\n",
      "(130089, 2)\n",
      "(130089, 15)\n"
     ]
    }
   ],
   "source": [
    "print(drugY.shape)\n",
    "print(contY.shape)\n",
    "print(target_label.shape)\n",
    "adata.obsm['X_drug']=drugY\n",
    "adata.obsm['X_cont']=contY\n",
    "adata.obsm['X_target']=target_label"
   ]
  },
  {
   "cell_type": "code",
   "execution_count": 26,
   "id": "b5896705-9300-4fe8-a3db-256ef79743a4",
   "metadata": {},
   "outputs": [],
   "source": [
    "donor_codes, donor_uniques = pd.factorize(adata.obs['DONOR'])\n",
    "donor_uniques = list(donor_uniques)\n",
    "donorY = np.zeros((len(donor_codes),len(donor_uniques)))\n",
    "for i in range(len(donor_codes)):\n",
    "    j = donor_codes[i]\n",
    "    donorY[i,j]=1\n",
    "adata.obsm['X_donor']=donorY"
   ]
  },
  {
   "cell_type": "code",
   "execution_count": 27,
   "id": "0b4777d4-8c14-4b47-b320-be6e9bbb362d",
   "metadata": {},
   "outputs": [
    {
     "name": "stdout",
     "output_type": "stream",
     "text": [
      "(130089, 39)\n"
     ]
    }
   ],
   "source": [
    "print(donorY.shape)"
   ]
  },
  {
   "cell_type": "code",
   "execution_count": 28,
   "id": "4aadc177",
   "metadata": {},
   "outputs": [
    {
     "data": {
      "text/plain": [
       "Counter({'Neuron': 130089})"
      ]
     },
     "execution_count": 28,
     "metadata": {},
     "output_type": "execute_result"
    }
   ],
   "source": [
    "import collections\n",
    "collections.Counter(adata.obs['cell_type'])"
   ]
  },
  {
   "cell_type": "code",
   "execution_count": 29,
   "id": "86dda407",
   "metadata": {},
   "outputs": [
    {
     "data": {
      "text/plain": [
       "Counter({'INFa': 5255,\n",
       "         'DMSO': 26914,\n",
       "         'CLOZ': 5774,\n",
       "         'HALO': 5343,\n",
       "         'AZT': 4987,\n",
       "         'INFy': 12695,\n",
       "         'EFA': 3497,\n",
       "         'Control': 25616,\n",
       "         'TNFa': 5625,\n",
       "         'ATOR': 3915,\n",
       "         'ISRD': 6045,\n",
       "         'GluN2a': 5843,\n",
       "         'PBS': 8055,\n",
       "         'H2O2': 1179,\n",
       "         'GLUT': 7281,\n",
       "         'SIM': 2065})"
      ]
     },
     "execution_count": 29,
     "metadata": {},
     "output_type": "execute_result"
    }
   ],
   "source": [
    "collections.Counter(adata.obs['condition'])"
   ]
  },
  {
   "cell_type": "code",
   "execution_count": null,
   "id": "c42c71a9-0a8a-4402-9026-9c49636e26f5",
   "metadata": {},
   "outputs": [],
   "source": []
  },
  {
   "cell_type": "markdown",
   "id": "42c19dc8-e96d-413a-8f73-5e2200213762",
   "metadata": {},
   "source": [
    "setup data for scvi-tools "
   ]
  },
  {
   "cell_type": "code",
   "execution_count": null,
   "id": "b468f4aa-9578-4a83-8946-f24fd7299ad8",
   "metadata": {},
   "outputs": [],
   "source": [
    "n_prog=5\n",
    "attention = ['A'+str(i) for i in range(1,n_prog+1)]"
   ]
  },
  {
   "cell_type": "code",
   "execution_count": 30,
   "id": "ef95ebad",
   "metadata": {},
   "outputs": [
    {
     "name": "stdout",
     "output_type": "stream",
     "text": [
      "\u001b[34mINFO    \u001b[0m Generating sequential column names                                                  \n",
      "\u001b[34mINFO    \u001b[0m Generating sequential column names                                                  \n",
      "\u001b[34mINFO    \u001b[0m Generating sequential column names                                                  \n",
      "\u001b[34mINFO    \u001b[0m Generating sequential column names                                                  \n"
     ]
    }
   ],
   "source": [
    "VariationalCPA.VariationalCPA.setup_anndata(adata, labels_key='control',\n",
    "                                            pert_key='Condition',layer=\"counts\",\n",
    "                                            cond_key='X_drug',cont_key='X_cont',\n",
    "                                            target_key='X_target',donor_key='X_donor')"
   ]
  },
  {
   "cell_type": "code",
   "execution_count": 37,
   "id": "443abe46-705f-4f55-b70a-8b512325e091",
   "metadata": {},
   "outputs": [],
   "source": [
    "cpa = VariationalCPA.VariationalCPA(adata, n_latent=20, n_layers=3, n_drug=13,n_control=2,n_target=15,n_donor=39,n_prog=n_prog)"
   ]
  },
  {
   "cell_type": "code",
   "execution_count": null,
   "id": "5a43f5f1-fdd4-4c3c-a1b9-f81e9321afa9",
   "metadata": {},
   "outputs": [],
   "source": []
  },
  {
   "cell_type": "markdown",
   "id": "1e6f1a5f-cc07-4f5d-816c-880fc652a2fe",
   "metadata": {},
   "source": [
    "training model"
   ]
  },
  {
   "cell_type": "code",
   "execution_count": null,
   "id": "59257821",
   "metadata": {},
   "outputs": [
    {
     "name": "stderr",
     "output_type": "stream",
     "text": [
      "GPU available: True, used: True\n",
      "TPU available: False, using: 0 TPU cores\n",
      "IPU available: False, using: 0 IPUs\n",
      "LOCAL_RANK: 0 - CUDA_VISIBLE_DEVICES: [0]\n"
     ]
    },
    {
     "name": "stdout",
     "output_type": "stream",
     "text": [
      "Epoch 153/700:  22%|██▏       | 152/700 [06:42<23:57,  2.62s/it, loss=-5.1e+06, v_num=1] "
     ]
    }
   ],
   "source": [
    "cpa.train(max_epochs=700,batch_size=4096)"
   ]
  },
  {
   "cell_type": "code",
   "execution_count": null,
   "id": "6432f2fe-da3c-4902-96a9-7e9bf9543ff1",
   "metadata": {},
   "outputs": [],
   "source": []
  },
  {
   "cell_type": "markdown",
   "id": "d70db12f-4c77-4ca7-b48e-9865f791e041",
   "metadata": {},
   "source": [
    "Get latent vector and visualization"
   ]
  },
  {
   "cell_type": "code",
   "execution_count": null,
   "id": "5f7a2de2-2316-4b8c-929c-1df99b2b83ba",
   "metadata": {},
   "outputs": [],
   "source": [
    "gc.collect()"
   ]
  },
  {
   "cell_type": "code",
   "execution_count": null,
   "id": "0ad75b34-8aea-4af1-b4c5-17b7a9769b1a",
   "metadata": {},
   "outputs": [],
   "source": [
    "z = cpa.get_latent_embedding(adata)"
   ]
  },
  {
   "cell_type": "code",
   "execution_count": null,
   "id": "63b5a3df",
   "metadata": {},
   "outputs": [],
   "source": [
    "down_samp = pd.DataFrame(z)\n",
    "#down_samp = down_samp.sample(frac=0.75)\n",
    "umaps = umap.UMAP(n_neighbors=10, min_dist=0.1, n_components=2,\n",
    "                  metric=\"correlation\").fit(down_samp.values)\n",
    "\n",
    "embedding = umaps.transform(z)\n",
    "embedding = pd.DataFrame(embedding)\n",
    "adata.obsm['X_umap']=embedding.iloc[:,:2].values\n",
    "sc.set_figure_params(scanpy=True, dpi=75, dpi_save=75)\n",
    "sc.pl.umap(adata, color='cell_type', title='',legend_loc='on data')\n",
    "sc.pl.umap(adata, color='condition', title='')"
   ]
  },
  {
   "cell_type": "code",
   "execution_count": null,
   "id": "1ca4efac-2176-45c7-9bc8-90dec8d21fdf",
   "metadata": {},
   "outputs": [],
   "source": [
    "adata.obsm['X_basal']=z"
   ]
  },
  {
   "cell_type": "code",
   "execution_count": null,
   "id": "c0b3f57a-4171-4ce2-9d71-7d2cea1c4f35",
   "metadata": {},
   "outputs": [],
   "source": []
  },
  {
   "cell_type": "code",
   "execution_count": null,
   "id": "3aaf33d5-8aba-43c7-b1a3-0bec07087051",
   "metadata": {},
   "outputs": [],
   "source": [
    "##ROC to evaluate basal state\n",
    "from sklearn.metrics import roc_auc_score\n",
    "from sklearn.metrics import roc_curve, auc\n",
    "from sklearn.linear_model import LogisticRegression\n",
    "from sklearn.model_selection import train_test_split"
   ]
  },
  {
   "cell_type": "code",
   "execution_count": null,
   "id": "ddcdecd2-2028-4ceb-8235-e0b1bded32e2",
   "metadata": {},
   "outputs": [],
   "source": [
    "adata.obsm['X_latent']=z\n",
    "fpr=dict()\n",
    "tpr=dict()\n",
    "roc_auc=dict()\n",
    "conditions = list(set(adata[adata.obs['condition']!='Control'].obs['condition'].values))\n",
    "for c in conditions:\n",
    "    subad = adata[np.logical_or(adata.obs['condition']=='Control',adata.obs['condition']==c)]\n",
    "    y, ycode = pd.factorize(subad.obs['condition'])\n",
    "    y[subad.obs['condition']=='Control']=0\n",
    "    y[subad.obs['condition']==c]=1\n",
    "    X = subad.obsm['X_latent']\n",
    "    random_state = np.random.RandomState(0)\n",
    "\n",
    "    # shuffle and split training and test sets\n",
    "    X_train, X_test, y_train, y_test = train_test_split(X, y, test_size=0.5, random_state=0)\n",
    "\n",
    "    # Learn to predict each class against the other\n",
    "    classifier = LogisticRegression(random_state=random_state)\n",
    "    y_score = classifier.fit(X_train, y_train).decision_function(X_test)\n",
    "\n",
    "    fpr[c], tpr[c], _ = roc_curve(y_test, y_score, pos_label=classifier.classes_[1])\n",
    "    roc_auc[c] = auc(fpr[c], tpr[c])"
   ]
  },
  {
   "cell_type": "code",
   "execution_count": null,
   "id": "0277e974-c440-413c-bf84-2fcc680e65bb",
   "metadata": {},
   "outputs": [],
   "source": [
    "conditions.sort()"
   ]
  },
  {
   "cell_type": "code",
   "execution_count": null,
   "id": "81d11bc0-10ba-4afb-82bb-ff4b5cb4631f",
   "metadata": {},
   "outputs": [],
   "source": [
    "colors = list(sns.color_palette(\"Paired\"))+list(sns.color_palette(\"hls\", 8))"
   ]
  },
  {
   "cell_type": "code",
   "execution_count": null,
   "id": "a8790fb8-90c6-4deb-905f-05ecbc878b1e",
   "metadata": {},
   "outputs": [],
   "source": [
    "sc.set_figure_params(scanpy=True, dpi=200, dpi_save=200)\n",
    "plt.figure()\n",
    "for i, color in zip(range(len(conditions)), colors):\n",
    "    plt.plot(\n",
    "        fpr[conditions[i]],\n",
    "        tpr[conditions[i]],\n",
    "        color=color,\n",
    "        lw=1,\n",
    "        #linestyle=\":\",\n",
    "        label=\"{0}\".format(conditions[i]),\n",
    "        #label=\"{0} (AUC = {1:0.2f})\".format(conditions[i], roc_auc[conditions[i]]),\n",
    "    )\n",
    "plt.grid(False)\n",
    "plt.plot([0, 1], [0, 1], \"k--\", lw=1)\n",
    "plt.xlim([0.0, 1.0])\n",
    "plt.ylim([0.0, 1.0])\n",
    "plt.xlabel(\"False Positive Rate\")\n",
    "plt.ylabel(\"True Positive Rate\")\n",
    "plt.title(\"\")\n",
    "legend = plt.legend(loc=\"lower right\",prop={'size': 4.5})\n",
    "#legend = plt.legend(bbox_to_anchor=(1.1, 1.05),prop={'size': 5})\n",
    "legend.get_frame().set_facecolor('none')\n",
    "plt.show()"
   ]
  },
  {
   "cell_type": "code",
   "execution_count": null,
   "id": "35d77964-87aa-4240-b6b0-35ea53c09e1d",
   "metadata": {},
   "outputs": [],
   "source": [
    "for i, color in zip(range(len(conditions)), colors):\n",
    "    print(\"{0} (AUC = {1:0.4f})\".format(conditions[i], roc_auc[conditions[i]]))"
   ]
  },
  {
   "cell_type": "code",
   "execution_count": null,
   "id": "9ed651cd-3fc3-454e-99b0-dc666b9604be",
   "metadata": {},
   "outputs": [],
   "source": []
  },
  {
   "cell_type": "code",
   "execution_count": null,
   "id": "5866373c-b396-4d4f-9b77-c7a32d9978fd",
   "metadata": {},
   "outputs": [],
   "source": [
    "zP,zAttn = cpa.get_pert_embedding(adata)"
   ]
  },
  {
   "cell_type": "code",
   "execution_count": null,
   "id": "900e7d80-51e2-424f-98cc-c17b8861c9ed",
   "metadata": {},
   "outputs": [],
   "source": [
    "adata.obsm['X_pert']=zP\n",
    "adata.obsm['X_attn']=zAttn"
   ]
  },
  {
   "cell_type": "code",
   "execution_count": null,
   "id": "32129fd5-0706-401a-b912-f6ce3f63f441",
   "metadata": {},
   "outputs": [],
   "source": []
  },
  {
   "cell_type": "code",
   "execution_count": null,
   "id": "76318766-6112-4b71-8c80-8461a981adb2",
   "metadata": {},
   "outputs": [],
   "source": [
    "cloz = adata[adata.obs['condition']=='SIM']\n",
    "attn = pd.DataFrame(cloz.obsm['X_attn'])\n",
    "attn.columns = attention\n",
    "attn.iloc[0,:]=0\n",
    "attn.iloc[1,:]=1\n",
    "\n",
    "for a in attention:\n",
    "    cloz.obs[a]=attn[a].values\n",
    "    \n",
    "sc.set_figure_params(scanpy=True, dpi=50, dpi_save=50)\n",
    "sc.pl.umap(cloz, color=attention,ncols=5, frameon=False,cmap='PRGn')"
   ]
  },
  {
   "cell_type": "code",
   "execution_count": null,
   "id": "a2eb1107-ec33-4159-9391-459a9cf6d032",
   "metadata": {},
   "outputs": [],
   "source": [
    "subad = adata[np.logical_or(np.logical_or(adata.obs['condition']=='DMSO',\n",
    "                                          adata.obs['condition']=='Control'),\n",
    "                            adata.obs['condition']=='SIM')]\n",
    "scaled_data = sc.pp.scale(subad, copy=True).X\n",
    "scaled_data[scaled_data>=5]=5\n",
    "scaled_data[scaled_data<=-5]=-5\n",
    "subad.layers['scaled'] = scaled_data\n",
    "control = subad[subad.obs['condition']=='Control']\n",
    "vehicle = subad[subad.obs['condition']=='DMSO']"
   ]
  },
  {
   "cell_type": "code",
   "execution_count": null,
   "id": "28cd74d9-6fb7-4a4f-ab2b-3a71cab90742",
   "metadata": {},
   "outputs": [],
   "source": [
    "cloz = subad[subad.obs['condition']=='SIM']\n",
    "#sc.pp.filter_genes(cloz, min_cells=int(cloz.X.shape[0]*0.2))\n",
    "sc.pp.filter_genes(cloz, min_cells=int(cloz.X.shape[0]*0.1))\n",
    "#sc.pp.filter_genes(cloz, min_cells=300)\n",
    "sc.pp.subsample(control, n_obs=cloz.X.shape[0])\n",
    "sc.pp.subsample(vehicle, n_obs=cloz.X.shape[0])"
   ]
  },
  {
   "cell_type": "code",
   "execution_count": 97,
   "id": "7f732ee9-3254-44b0-a208-e9eeaadd0e1a",
   "metadata": {},
   "outputs": [],
   "source": [
    "X = cloz.X.todense()\n",
    "scaler = StandardScaler()\n",
    "X = scaler.fit_transform(X)\n",
    "X = pd.DataFrame(X)\n",
    "X.columns = cloz.var.index"
   ]
  },
  {
   "cell_type": "code",
   "execution_count": 98,
   "id": "1c14cb5b-40be-4c49-8229-4d5d7515fe6c",
   "metadata": {},
   "outputs": [],
   "source": [
    "y = attn['A2'].values"
   ]
  },
  {
   "cell_type": "code",
   "execution_count": 115,
   "id": "331a98d8-4c65-4e20-a2b9-65c891eab991",
   "metadata": {},
   "outputs": [
    {
     "data": {
      "text/html": [
       "<style>#sk-container-id-6 {color: black;background-color: white;}#sk-container-id-6 pre{padding: 0;}#sk-container-id-6 div.sk-toggleable {background-color: white;}#sk-container-id-6 label.sk-toggleable__label {cursor: pointer;display: block;width: 100%;margin-bottom: 0;padding: 0.3em;box-sizing: border-box;text-align: center;}#sk-container-id-6 label.sk-toggleable__label-arrow:before {content: \"▸\";float: left;margin-right: 0.25em;color: #696969;}#sk-container-id-6 label.sk-toggleable__label-arrow:hover:before {color: black;}#sk-container-id-6 div.sk-estimator:hover label.sk-toggleable__label-arrow:before {color: black;}#sk-container-id-6 div.sk-toggleable__content {max-height: 0;max-width: 0;overflow: hidden;text-align: left;background-color: #f0f8ff;}#sk-container-id-6 div.sk-toggleable__content pre {margin: 0.2em;color: black;border-radius: 0.25em;background-color: #f0f8ff;}#sk-container-id-6 input.sk-toggleable__control:checked~div.sk-toggleable__content {max-height: 200px;max-width: 100%;overflow: auto;}#sk-container-id-6 input.sk-toggleable__control:checked~label.sk-toggleable__label-arrow:before {content: \"▾\";}#sk-container-id-6 div.sk-estimator input.sk-toggleable__control:checked~label.sk-toggleable__label {background-color: #d4ebff;}#sk-container-id-6 div.sk-label input.sk-toggleable__control:checked~label.sk-toggleable__label {background-color: #d4ebff;}#sk-container-id-6 input.sk-hidden--visually {border: 0;clip: rect(1px 1px 1px 1px);clip: rect(1px, 1px, 1px, 1px);height: 1px;margin: -1px;overflow: hidden;padding: 0;position: absolute;width: 1px;}#sk-container-id-6 div.sk-estimator {font-family: monospace;background-color: #f0f8ff;border: 1px dotted black;border-radius: 0.25em;box-sizing: border-box;margin-bottom: 0.5em;}#sk-container-id-6 div.sk-estimator:hover {background-color: #d4ebff;}#sk-container-id-6 div.sk-parallel-item::after {content: \"\";width: 100%;border-bottom: 1px solid gray;flex-grow: 1;}#sk-container-id-6 div.sk-label:hover label.sk-toggleable__label {background-color: #d4ebff;}#sk-container-id-6 div.sk-serial::before {content: \"\";position: absolute;border-left: 1px solid gray;box-sizing: border-box;top: 0;bottom: 0;left: 50%;z-index: 0;}#sk-container-id-6 div.sk-serial {display: flex;flex-direction: column;align-items: center;background-color: white;padding-right: 0.2em;padding-left: 0.2em;position: relative;}#sk-container-id-6 div.sk-item {position: relative;z-index: 1;}#sk-container-id-6 div.sk-parallel {display: flex;align-items: stretch;justify-content: center;background-color: white;position: relative;}#sk-container-id-6 div.sk-item::before, #sk-container-id-6 div.sk-parallel-item::before {content: \"\";position: absolute;border-left: 1px solid gray;box-sizing: border-box;top: 0;bottom: 0;left: 50%;z-index: -1;}#sk-container-id-6 div.sk-parallel-item {display: flex;flex-direction: column;z-index: 1;position: relative;background-color: white;}#sk-container-id-6 div.sk-parallel-item:first-child::after {align-self: flex-end;width: 50%;}#sk-container-id-6 div.sk-parallel-item:last-child::after {align-self: flex-start;width: 50%;}#sk-container-id-6 div.sk-parallel-item:only-child::after {width: 0;}#sk-container-id-6 div.sk-dashed-wrapped {border: 1px dashed gray;margin: 0 0.4em 0.5em 0.4em;box-sizing: border-box;padding-bottom: 0.4em;background-color: white;}#sk-container-id-6 div.sk-label label {font-family: monospace;font-weight: bold;display: inline-block;line-height: 1.2em;}#sk-container-id-6 div.sk-label-container {text-align: center;}#sk-container-id-6 div.sk-container {/* jupyter's `normalize.less` sets `[hidden] { display: none; }` but bootstrap.min.css set `[hidden] { display: none !important; }` so we also need the `!important` here to be able to override the default hidden behavior on the sphinx rendered scikit-learn.org. See: https://github.com/scikit-learn/scikit-learn/issues/21755 */display: inline-block !important;position: relative;}#sk-container-id-6 div.sk-text-repr-fallback {display: none;}</style><div id=\"sk-container-id-6\" class=\"sk-top-container\"><div class=\"sk-text-repr-fallback\"><pre>BayesianRidge(fit_intercept=False)</pre><b>In a Jupyter environment, please rerun this cell to show the HTML representation or trust the notebook. <br />On GitHub, the HTML representation is unable to render, please try loading this page with nbviewer.org.</b></div><div class=\"sk-container\" hidden><div class=\"sk-item\"><div class=\"sk-estimator sk-toggleable\"><input class=\"sk-toggleable__control sk-hidden--visually\" id=\"sk-estimator-id-6\" type=\"checkbox\" checked><label for=\"sk-estimator-id-6\" class=\"sk-toggleable__label sk-toggleable__label-arrow\">BayesianRidge</label><div class=\"sk-toggleable__content\"><pre>BayesianRidge(fit_intercept=False)</pre></div></div></div></div></div>"
      ],
      "text/plain": [
       "BayesianRidge(fit_intercept=False)"
      ]
     },
     "execution_count": 115,
     "metadata": {},
     "output_type": "execute_result"
    }
   ],
   "source": [
    "#reg = LinearRegression(fit_intercept=False)\n",
    "#reg = linear_model.Ridge(alpha = 0.5)\n",
    "#reg = linear_model.RidgeCV(alphas=[0.1, 1.0, 10.0],fit_intercept=False)\n",
    "reg = linear_model.BayesianRidge(fit_intercept=False)\n",
    "#reg = linear_model.ARDRegression(fit_intercept=False)\n",
    "#reg = linear_model.SGDRegressor(fit_intercept=False)\n",
    "reg.fit(X, y)"
   ]
  },
  {
   "cell_type": "code",
   "execution_count": 116,
   "id": "0b9672ec-2f65-4874-88f5-b85f6fe76543",
   "metadata": {},
   "outputs": [],
   "source": [
    "gene_weights = pd.DataFrame(reg.coef_)\n",
    "gene_weights.index = cloz.var.index\n",
    "geneA=gene_weights[0].sort_values(ascending = False).index[:50].tolist()\n",
    "geneB=gene_weights[0].sort_values(ascending = True).index[:50].tolist()"
   ]
  },
  {
   "cell_type": "code",
   "execution_count": 117,
   "id": "0315e013-d73f-44d7-a99b-2d3af0200f7f",
   "metadata": {},
   "outputs": [],
   "source": [
    "expr = X.loc[:,geneA+geneB]\n",
    "expr['Response']=attn['A2'].values\n",
    "expr = expr.sort_values(by=['Response'],ascending=False)"
   ]
  },
  {
   "cell_type": "code",
   "execution_count": 118,
   "id": "da117543-d9d9-454d-9906-1ef11fa6f70e",
   "metadata": {},
   "outputs": [],
   "source": [
    "scaler = MinMaxScaler((0,1))\n",
    "exprs = scaler.fit_transform(expr)\n",
    "exprs = pd.DataFrame(exprs)\n",
    "exprs.columns = expr.columns"
   ]
  },
  {
   "cell_type": "code",
   "execution_count": null,
   "id": "1431ec10-3c38-4693-bd50-cc625423e6cf",
   "metadata": {},
   "outputs": [],
   "source": [
    "sns.set(rc = {'figure.figsize':(18,6)})\n",
    "sns.set(font_scale=0.01)\n",
    "#sns.heatmap(exprs.iloc[:,:-1],cmap='PRGn')\n",
    "sns.heatmap(exprs,cmap='PRGn')"
   ]
  },
  {
   "cell_type": "code",
   "execution_count": null,
   "id": "aec1ee50-e1d6-4644-9d40-ca7f1b9e4705",
   "metadata": {},
   "outputs": [],
   "source": []
  },
  {
   "cell_type": "code",
   "execution_count": 120,
   "id": "3d04c09b-868c-4b77-b72b-2b66b5ee872f",
   "metadata": {},
   "outputs": [],
   "source": [
    "geneA=gene_weights[0].sort_values(ascending = False).index[:20].tolist()\n",
    "geneB=gene_weights[0].sort_values(ascending = True).index[:20].tolist()"
   ]
  },
  {
   "cell_type": "code",
   "execution_count": null,
   "id": "3d6bd377-a918-4b11-b4f6-97d84d45c0b0",
   "metadata": {},
   "outputs": [],
   "source": [
    "sc.set_figure_params(scanpy=True, dpi=50, dpi_save=50)\n",
    "print(\"CLOZ\")\n",
    "sc.pl.umap(cloz, color=geneA,\n",
    "           layer='scaled',vmin=-5, vmax=5,cmap='PRGn',ncols=5)\n",
    "print(\"Control\")\n",
    "sc.pl.umap(control, color=geneA,\n",
    "           layer='scaled',vmin=-5, vmax=5,cmap='PRGn',ncols=5)\n",
    "print(\"DMSO\")\n",
    "sc.pl.umap(vehicle, color=geneA,\n",
    "           layer='scaled',vmin=-5, vmax=5,cmap='PRGn',ncols=5)"
   ]
  },
  {
   "cell_type": "code",
   "execution_count": null,
   "id": "68c3536f-3359-4d55-a261-0396d7a7ecbe",
   "metadata": {},
   "outputs": [],
   "source": [
    "print(\"CLOZ\")\n",
    "sc.pl.umap(cloz, color=geneB,\n",
    "           layer='scaled',vmin=-5, vmax=5,cmap='PRGn',ncols=5)\n",
    "print(\"Control\")\n",
    "sc.pl.umap(control, color=geneB,\n",
    "           layer='scaled',vmin=-5, vmax=5,cmap='PRGn',ncols=5)\n",
    "print(\"DMSO\")\n",
    "sc.pl.umap(vehicle, color=geneB,\n",
    "           layer='scaled',vmin=-5, vmax=5,cmap='PRGn',ncols=5)"
   ]
  },
  {
   "cell_type": "code",
   "execution_count": null,
   "id": "62fcffe2-c3cb-4d0b-bffd-be8ec256c3ec",
   "metadata": {},
   "outputs": [],
   "source": [
    "print(\"CLOZ\")\n",
    "sc.pl.umap(cloz, color=['MVD','FABP3','FDPS','FASN'],#'SCD''LSS',\n",
    "           layer='scaled',vmin=-5, vmax=5,cmap='PRGn',ncols=5)\n",
    "print(\"Control\")\n",
    "sc.pl.umap(control, color=['MVD','FABP3','FDPS','FASN'],\n",
    "           layer='scaled',vmin=-5, vmax=5,cmap='PRGn',ncols=5)\n",
    "print(\"DMSO\")\n",
    "sc.pl.umap(vehicle, color=['MVD','FABP3','FDPS','FASN'],\n",
    "           layer='scaled',vmin=-5, vmax=5,cmap='PRGn',ncols=5)\n",
    "\n",
    "#print(\"CLOZ\")\n",
    "#sc.pl.umap(cloz, color=['KLF2','KLF4','SOX5'],\n",
    "#           layer='scaled',vmin=-5, vmax=5,cmap='PRGn',ncols=5)\n",
    "#print(\"Control\")\n",
    "#sc.pl.umap(control, color=['KLF2','KLF4','SOX5'],\n",
    "#           layer='scaled',vmin=-5, vmax=5,cmap='PRGn',ncols=5)\n",
    "#print(\"DMSO\")\n",
    "#sc.pl.umap(vehicle, color=['KLF2','KLF4','SOX5'],\n",
    "#           layer='scaled',vmin=-5, vmax=5,cmap='PRGn',ncols=5)"
   ]
  },
  {
   "cell_type": "code",
   "execution_count": null,
   "id": "98b843f8-a0b8-4692-a974-99d6d9d66b72",
   "metadata": {},
   "outputs": [],
   "source": []
  },
  {
   "cell_type": "code",
   "execution_count": null,
   "id": "27033fea-b5b1-41d5-b3f8-4fef8356ecb0",
   "metadata": {},
   "outputs": [],
   "source": []
  },
  {
   "cell_type": "code",
   "execution_count": 88,
   "id": "17fcb07c-2870-4741-bfdb-8b9c17273490",
   "metadata": {},
   "outputs": [],
   "source": [
    "subad = adata[np.logical_or(np.array(vehicles)=='Control',np.array(vehicles)=='DMSO')]\n",
    "#sc.pp.filter_genes(subad, min_cells=1000)\n",
    "sc.pp.filter_genes(subad, min_cells=int(subad.X.shape[0]*0.1))\n",
    "subad.layers['scaled'] = sc.pp.scale(subad, copy=True).X"
   ]
  },
  {
   "cell_type": "code",
   "execution_count": 89,
   "id": "f8664e86-89b4-4a6c-8961-42e32d0564ad",
   "metadata": {},
   "outputs": [],
   "source": [
    "drug_embedding = cpa.get_pert_loadings()\n",
    "drug_embedding_a2 = drug_embedding[:,0,:]\n",
    "\n",
    "weights = cpa.get_loadings()\n",
    "weights.shape\n",
    "\n",
    "drug_loading = np.matmul(weights,drug_embedding_a2.T)\n",
    "drug_loading = pd.DataFrame(drug_loading)\n",
    "drug_loading.index = adata.var.index\n",
    "drug_loading.columns = drug_names\n",
    "\n",
    "smileA = drug_loading['SIM'].sort_values(ascending = False)\n",
    "gene_list = [i for i in smileA.index[:100].tolist() if i in subad.var.index]\n",
    "new_gene_list = [g for g in gene_list if g in cloz.var.index]\n",
    "gene_list_A2 = [g for g in new_gene_list if g in subad.var.index]"
   ]
  },
  {
   "cell_type": "code",
   "execution_count": 90,
   "id": "af36d384-7424-46d5-af3d-c98df34f8735",
   "metadata": {},
   "outputs": [],
   "source": [
    "drug_embedding = cpa.get_pert_loadings()\n",
    "drug_embedding_a2 = drug_embedding[:,2,:]\n",
    "\n",
    "weights = cpa.get_loadings()\n",
    "weights.shape\n",
    "\n",
    "drug_loading = np.matmul(weights,drug_embedding_a2.T)\n",
    "drug_loading = pd.DataFrame(drug_loading)\n",
    "drug_loading.index = adata.var.index\n",
    "drug_loading.columns = drug_names\n",
    "\n",
    "smileA = drug_loading['SIM'].sort_values(ascending = False)\n",
    "gene_list = [i for i in smileA.index[:100].tolist() if i in subad.var.index]\n",
    "new_gene_list = [g for g in gene_list if g in cloz.var.index]\n",
    "gene_list_A5 = [g for g in new_gene_list if g in subad.var.index]"
   ]
  },
  {
   "cell_type": "code",
   "execution_count": null,
   "id": "b5307544-6a10-4020-b9f0-eb7ee569d9f6",
   "metadata": {},
   "outputs": [],
   "source": []
  },
  {
   "cell_type": "code",
   "execution_count": null,
   "id": "1b1ca687-98bf-475b-a39f-d8cd19014cd5",
   "metadata": {},
   "outputs": [],
   "source": [
    "sc.set_figure_params(scanpy=True, dpi=50, dpi_save=50)\n",
    "print(\"CLOZ\")\n",
    "sc.pl.umap(cloz, color=gene_list_A2,\n",
    "           layer='scaled',vmin=-5, vmax=5,cmap='PRGn',ncols=5)\n",
    "print('Attention 5')\n",
    "sc.pl.umap(cloz, color=gene_list_A5,\n",
    "           layer='scaled',vmin=-5, vmax=5,cmap='PRGn',ncols=5)\n",
    "#print(\"Control\")\n",
    "#sc.pl.umap(control, color=new_gene_list[:20],\n",
    "#           layer='scaled',vmin=-5, vmax=5,cmap='PRGn',ncols=5)\n",
    "#print(\"DMSO\")\n",
    "#sc.pl.umap(vehicle, color=new_gene_list[:20],\n",
    "#           layer='scaled',vmin=-5, vmax=5,cmap='PRGn',ncols=5)"
   ]
  },
  {
   "cell_type": "code",
   "execution_count": null,
   "id": "98b84401-8499-43cd-8d55-ea55612ba83f",
   "metadata": {},
   "outputs": [],
   "source": [
    "sc.pl.matrixplot(subad, gene_list_A2, groupby='condition',\n",
    "                 cmap='PRGn',layer='scaled', vmin=-1, vmax=1)\n",
    "\n",
    "sc.pl.matrixplot(subad, gene_list_A5, groupby='condition',\n",
    "                 cmap='PRGn',layer='scaled', vmin=-1, vmax=1)"
   ]
  },
  {
   "cell_type": "code",
   "execution_count": null,
   "id": "c39aa6ea-0112-480b-82e3-0638de692c36",
   "metadata": {},
   "outputs": [],
   "source": [
    "sc.set_figure_params(scanpy=True, dpi=75, dpi_save=75)\n",
    "geneA=gene_weights[0].sort_values(ascending = False).index[:20].tolist()\n",
    "subad = control.concatenate(cloz,vehicle)\n",
    "#sc.pl.matrixplot(subad, ['MVD','LSS','FABP3','FDPS','FASN'], groupby='condition',#'LSS'\n",
    "#                 cmap='PRGn',layer='scaled', vmin=-1, vmax=1)\n",
    "#sc.pl.matrixplot(subad, ['HES1'], groupby='condition',\n",
    "#                 cmap='PRGn',layer='scaled', vmin=-0.5, vmax=0.5)\n",
    "sc.pl.matrixplot(subad, gene_list_A2, groupby='condition',\n",
    "                 cmap='PRGn',layer='scaled', vmin=-1, vmax=1)\n",
    "sc.pl.matrixplot(subad, gene_list_A5, groupby='condition',\n",
    "                 cmap='PRGn',layer='scaled', vmin=-1, vmax=1)\n",
    "sc.pl.matrixplot(subad, geneA, groupby='condition',\n",
    "                 cmap='PRGn',layer='scaled', vmin=-1, vmax=1)\n",
    "#subad = control.concatenate(cloz)\n",
    "#sc.pl.matrixplot(subad, ['ISG15','MX1','IFIT1','IFI6','STAT1'], groupby='condition',\n",
    "#                 cmap='PRGn',layer='scaled', vmin=-3, vmax=3)\n",
    "#sc.pl.matrixplot(subad, geneA, groupby='condition',\n",
    "#                 cmap='PRGn',layer='scaled', vmin=-3, vmax=3)"
   ]
  },
  {
   "cell_type": "code",
   "execution_count": null,
   "id": "bebc1b2c-0dde-43ff-9cba-2911e6211f7d",
   "metadata": {},
   "outputs": [],
   "source": []
  }
 ],
 "metadata": {
  "environment": {
   "kernel": "conda-env-scvi-env-py",
   "name": "common-cu113.m91",
   "type": "gcloud",
   "uri": "gcr.io/deeplearning-platform-release/base-cu113:m91"
  },
  "kernelspec": {
   "display_name": "Python [conda env:scvi-env]",
   "language": "python",
   "name": "conda-env-scvi-env-py"
  },
  "language_info": {
   "codemirror_mode": {
    "name": "ipython",
    "version": 3
   },
   "file_extension": ".py",
   "mimetype": "text/x-python",
   "name": "python",
   "nbconvert_exporter": "python",
   "pygments_lexer": "ipython3",
   "version": "3.9.13"
  }
 },
 "nbformat": 4,
 "nbformat_minor": 5
}

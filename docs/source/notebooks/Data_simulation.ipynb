{
 "cells": [
  {
   "cell_type": "markdown",
   "id": "101c9b55-9a94-48e7-a04f-77cdb7def14b",
   "metadata": {},
   "source": [
    "# This notebook tutorial details generation simulation data with prosstt"
   ]
  },
  {
   "cell_type": "code",
   "execution_count": null,
   "id": "0e355150-dbc6-4881-9117-15060fc93311",
   "metadata": {},
   "outputs": [],
   "source": [
    "import warnings\n",
    "warnings.filterwarnings(\"ignore\")\n",
    "\n",
    "import torch\n",
    "import newick\n",
    "import numpy as np\n",
    "import pandas as pd\n",
    "import scanpy as sc\n",
    "from numpy import random\n",
    "\n",
    "from prosstt import tree\n",
    "from prosstt import simulation as sim\n",
    "from prosstt import sim_utils as sut\n",
    "\n",
    "from sklearn.preprocessing import MinMaxScaler\n",
    "\n",
    "import seaborn as sns\n",
    "import matplotlib.pyplot as plt\n",
    "\n",
    "rseed = 0\n",
    "random.seed(rseed)"
   ]
  },
  {
   "cell_type": "code",
   "execution_count": 2,
   "id": "7adfcc5f-675b-4960-9d29-af5c268002ac",
   "metadata": {},
   "outputs": [],
   "source": [
    "import os\n",
    "import sys\n",
    "\n",
    "parent_dir = os.path.dirname('/home/jupyter/')\n",
    "sys.path.append(parent_dir)"
   ]
  },
  {
   "cell_type": "code",
   "execution_count": 3,
   "id": "e47c2e3d-33ef-48e5-8d49-148179f08637",
   "metadata": {},
   "outputs": [],
   "source": [
    "newick_string = \"(B:2000,C:2000,D:2000,E:2000)A:2000;\"\n",
    "t = tree.Tree.from_newick(newick_string, genes=1500, modules=100)\n",
    "sample_time = np.arange(0, t.get_max_time())"
   ]
  },
  {
   "cell_type": "code",
   "execution_count": 4,
   "id": "4982f46e-ff35-4713-8cee-483ff47d08e7",
   "metadata": {},
   "outputs": [],
   "source": [
    "uMs, Ws, Hs = sim.simulate_lineage(t, a=0.05)\n",
    "gene_scale = sut.simulate_base_gene_exp(t, uMs)\n",
    "t.add_genes(uMs, gene_scale)"
   ]
  },
  {
   "cell_type": "code",
   "execution_count": 5,
   "id": "7f80d7e8-7b1c-44ad-8da8-cc5e16bee469",
   "metadata": {},
   "outputs": [],
   "source": [
    "alpha = np.exp(random.normal(loc=np.log(0.2), scale=np.log(1.5), size=t.G)) # used for final simulation\n",
    "beta = np.exp(random.normal(loc=np.log(1), scale=np.log(1.5), size=t.G)) + 1 # used for final simulation\n",
    "X, pseudotimes, branch, scalings = sim.sample_whole_tree(t, 1, alpha=alpha, beta=beta) # used for final simulation"
   ]
  },
  {
   "cell_type": "code",
   "execution_count": null,
   "id": "55fe624d-6c0b-4dcb-8d0c-eeb675af5f91",
   "metadata": {},
   "outputs": [],
   "source": []
  },
  {
   "cell_type": "code",
   "execution_count": 6,
   "id": "bd603794-6c7a-4f9a-853e-63b441cf4f4d",
   "metadata": {},
   "outputs": [
    {
     "name": "stderr",
     "output_type": "stream",
     "text": [
      "OMP: Info #276: omp_set_nested routine deprecated, please use omp_set_max_active_levels instead.\n"
     ]
    }
   ],
   "source": [
    "X1 = (X.transpose() / scalings).transpose()\n",
    "adata = sc.AnnData(np.log(X1+1))\n",
    "\n",
    "sc.pp.neighbors(adata, use_rep=\"X\")\n",
    "sc.tl.diffmap(adata)\n",
    "dm1 = adata.obsm[\"X_diffmap\"]\n",
    "adata.obsm[\"X_umap\"] = adata.obsm[\"X_diffmap\"][:,1:3]\n",
    "br_names1, indices1 = np.unique(branch, return_inverse=True)"
   ]
  },
  {
   "cell_type": "code",
   "execution_count": 7,
   "id": "3ff68ff3-f256-48fd-824f-413dd9bbb715",
   "metadata": {},
   "outputs": [],
   "source": [
    "adata.obs['Branch']=branch\n",
    "adata.obs['Pseudotime']=pseudotimes"
   ]
  },
  {
   "cell_type": "code",
   "execution_count": null,
   "id": "0caa4d2e-d26e-41cf-b3c8-5168af811f51",
   "metadata": {},
   "outputs": [],
   "source": []
  },
  {
   "cell_type": "code",
   "execution_count": null,
   "id": "b6d63cb5-6718-4879-b2a7-72d018f7bea5",
   "metadata": {},
   "outputs": [],
   "source": [
    "# We did some visualization of marker genes in each cell state\n",
    "sc.tl.rank_genes_groups(adata, 'Branch', method='wilcoxon')\n",
    "markers = pd.DataFrame(adata.uns['rank_genes_groups']['names']).head(20)\n",
    "ax = sc.pl.heatmap(adata, markers.T.values.flatten().tolist(), groupby='Branch', cmap='RdBu_r')"
   ]
  },
  {
   "cell_type": "code",
   "execution_count": 12,
   "id": "e1e23c41-9f23-486e-a498-df8042bd17e4",
   "metadata": {},
   "outputs": [],
   "source": []
  },
  {
   "cell_type": "markdown",
   "id": "92ebfb01-23e2-43e5-b5bb-fefae43b0bce",
   "metadata": {},
   "source": [
    "### Cell state A will be used as basal state"
   ]
  },
  {
   "cell_type": "code",
   "execution_count": 13,
   "id": "afa91d73-30aa-4d2e-a04a-945ccbca7bf4",
   "metadata": {},
   "outputs": [],
   "source": [
    "Xc = X[adata.obs['Branch']=='A',:]\n",
    "control = adata[adata.obs['Branch']=='A',:]"
   ]
  },
  {
   "cell_type": "code",
   "execution_count": 14,
   "id": "94a07a9c-56f6-47d8-b49c-ae6c55764bb1",
   "metadata": {},
   "outputs": [],
   "source": [
    "# We rescale pseudotime from 0 to 1\n",
    "ptime = control.obs['Pseudotime']\n",
    "scaler = MinMaxScaler(feature_range=(0, 1))\n",
    "ptime = scaler.fit_transform(np.expand_dims(ptime, 1))\n",
    "pseudo = torch.Tensor(ptime).view(-1,1)"
   ]
  },
  {
   "cell_type": "code",
   "execution_count": 16,
   "id": "a6cc8d3b-3f78-452a-a075-09fe6a7b2ca7",
   "metadata": {},
   "outputs": [],
   "source": [
    "C = Xc.sum(1).mean()\n",
    "# print(C)"
   ]
  },
  {
   "cell_type": "code",
   "execution_count": 17,
   "id": "8e65b522-8c2e-45ad-920c-11770f3eed80",
   "metadata": {},
   "outputs": [],
   "source": [
    "p_cont = Xc\n",
    "q_cont = p_cont.sum(0)\n",
    "P_cont = q_cont/q_cont.sum()\n",
    "P_cont = torch.Tensor(P_cont).view(1,-1)\n",
    "gt_control = P_cont.cpu().numpy().squeeze()\n",
    "\n",
    "poisson = torch.distributions.Poisson((C+1) * torch.matmul(torch.ones(Xc.shape[0],1),P_cont))\n",
    "cont = Xc + np.asarray(poisson.sample().detach().cpu())"
   ]
  },
  {
   "cell_type": "code",
   "execution_count": null,
   "id": "62db0ab4-7a7c-4d9b-a954-eba25bb3acbf",
   "metadata": {},
   "outputs": [],
   "source": []
  },
  {
   "cell_type": "markdown",
   "id": "b32c7961-8540-4452-8fa3-a3d785e32e2d",
   "metadata": {},
   "source": [
    "### Simulation 1"
   ]
  },
  {
   "cell_type": "code",
   "execution_count": 19,
   "id": "c4f91843-0a9f-4686-a8c0-04316c7c736e",
   "metadata": {},
   "outputs": [],
   "source": [
    "p1 = X[adata.obs['Branch']=='B',:]\n",
    "q = p1.sum(0)\n",
    "P = q/q.sum()\n",
    "P = torch.Tensor(P).view(1,-1)\n",
    "gt_p1 = P.cpu().numpy().squeeze()\n",
    "\n",
    "poisson_pert = torch.distributions.Poisson(C * torch.matmul(pseudo,P))\n",
    "poisson_cont = torch.distributions.Poisson(C * torch.matmul((1-pseudo),P_cont))\n",
    "\n",
    "pert1_basal = Xc + np.asarray(poisson_cont.sample().detach().cpu()).copy()\n",
    "pert1_pert = np.asarray(poisson_pert.sample().detach().cpu()).copy()\n",
    "\n",
    "pert1 = pert1_basal + pert1_pert"
   ]
  },
  {
   "cell_type": "code",
   "execution_count": 20,
   "id": "29f75584-4910-426f-b628-cd5f7617b134",
   "metadata": {},
   "outputs": [],
   "source": [
    "p2 = X[adata.obs['Branch']=='E',:]\n",
    "q = p2.sum(0)\n",
    "P = q/q.sum()\n",
    "P = torch.Tensor(P).view(1,-1)\n",
    "gt_p2 = P.cpu().numpy().squeeze()\n",
    "\n",
    "poisson_pert = torch.distributions.Poisson(C * torch.matmul(pseudo,P))\n",
    "poisson_cont = torch.distributions.Poisson(C * torch.matmul((1-pseudo),P_cont))\n",
    "\n",
    "pert2_basal = Xc + np.asarray(poisson_cont.sample().detach().cpu()).copy()\n",
    "pert2_pert = np.asarray(poisson_pert.sample().detach().cpu()).copy()\n",
    "\n",
    "pert2 = pert2_basal + pert2_pert "
   ]
  },
  {
   "cell_type": "code",
   "execution_count": null,
   "id": "a84f316d-b562-4c65-9c7b-476a9a876a8e",
   "metadata": {},
   "outputs": [],
   "source": []
  },
  {
   "cell_type": "markdown",
   "id": "32bf2895-4499-43f6-92f6-8871a35e40a5",
   "metadata": {},
   "source": [
    "### Simulation 2"
   ]
  },
  {
   "cell_type": "code",
   "execution_count": 67,
   "id": "1bf550ce-e53a-4e61-bf4f-527675dda5bc",
   "metadata": {},
   "outputs": [],
   "source": [
    "p1 = X[adata.obs['Branch']=='D',:]\n",
    "q = p1.sum(0)\n",
    "P = q/q.sum()\n",
    "P = torch.Tensor(P).view(1,-1)\n",
    "gt_shared = P.cpu().numpy().squeeze()\n",
    "\n",
    "poisson_pert = torch.distributions.Poisson(C * torch.matmul(pseudo,P))\n",
    "poisson_cont = torch.distributions.Poisson(C * torch.matmul((1-pseudo),P_cont))\n",
    "\n",
    "pert1_basal = Xc + np.asarray(poisson_cont.sample().detach().cpu()).copy()\n",
    "pert1_pert = np.asarray(poisson_pert.sample().detach().cpu()).copy()\n",
    "pert1 = pert1_basal + pert1_pert"
   ]
  },
  {
   "cell_type": "code",
   "execution_count": 70,
   "id": "8f7a1a3d-70af-4530-91d5-8944dc440fe0",
   "metadata": {},
   "outputs": [],
   "source": [
    "p2 = X[adata.obs['Branch']=='D',:]\n",
    "q = p2.sum(0)\n",
    "P = q/q.sum()\n",
    "P = torch.Tensor(P).view(1,-1)\n",
    "\n",
    "poisson_pert = torch.distributions.Poisson(C * torch.matmul(pseudo,P) * 0.5)\n",
    "poisson_cont = torch.distributions.Poisson(C * torch.matmul((1-pseudo),P_cont))\n",
    "\n",
    "pert2_basal = Xc + np.asarray(poisson_cont.sample().detach().cpu()).copy()\n",
    "pert2_pert = np.asarray(poisson_pert.sample().detach().cpu()).copy()\n",
    "\n",
    "pert2 = pert2_basal + pert2_pert"
   ]
  },
  {
   "cell_type": "code",
   "execution_count": null,
   "id": "897fe479-ca01-4dfb-8723-9e60ee8cd318",
   "metadata": {},
   "outputs": [],
   "source": []
  },
  {
   "cell_type": "markdown",
   "id": "66a3363a-5c98-4cc2-ab9b-93ba8d610d50",
   "metadata": {},
   "source": [
    "### Simulation 3"
   ]
  },
  {
   "cell_type": "code",
   "execution_count": 28,
   "id": "3a357802-1cd8-437c-b84a-8a7d465b3692",
   "metadata": {},
   "outputs": [],
   "source": [
    "p_shared = X[adata.obs['Branch']=='D',:]\n",
    "q_shared = p_shared.sum(0)\n",
    "P_shared = q_shared/q_shared.sum()\n",
    "P_shared = torch.Tensor(P_shared).view(1,-1)\n",
    "gt_shared = P_shared.cpu().numpy().squeeze() * C\n",
    "\n",
    "poisson_shared = torch.distributions.Poisson(C * torch.matmul((1-pseudo),P_shared))"
   ]
  },
  {
   "cell_type": "code",
   "execution_count": 29,
   "id": "02e561ac-de8e-4f2e-b6dd-b3e5e7d3c575",
   "metadata": {},
   "outputs": [],
   "source": [
    "p1 = X[adata.obs['Branch']=='B',:]\n",
    "q = p1.sum(0)\n",
    "P = q/q.sum()\n",
    "P = torch.Tensor(P).view(1,-1)\n",
    "gt_p1 = P.cpu().numpy().squeeze() * C\n",
    "\n",
    "poisson_pert = torch.distributions.Poisson(C * torch.matmul(pseudo,P))\n",
    "\n",
    "pert1_basal = Xc\n",
    "pert1_pert = np.asarray(poisson_pert.sample().detach().cpu()).copy()\n",
    "pert1_share = np.asarray(poisson_shared.sample().detach().cpu())\n",
    "pert1 = pert1_basal + pert1_pert + pert1_share"
   ]
  },
  {
   "cell_type": "code",
   "execution_count": 30,
   "id": "83b2b2b4-9b97-4f4c-9565-0ed43410c18f",
   "metadata": {},
   "outputs": [],
   "source": [
    "p2 = X[adata.obs['Branch']=='E',:]\n",
    "q = p2.sum(0)\n",
    "P = q/q.sum()\n",
    "P = torch.Tensor(P).view(1,-1)\n",
    "gt_p2 = P.cpu().numpy().squeeze() * C\n",
    "\n",
    "poisson_pert = torch.distributions.Poisson(C * torch.matmul(pseudo,P))\n",
    "\n",
    "pert2_basal = Xc\n",
    "pert2_pert = np.asarray(poisson_pert.sample().detach().cpu()).copy()\n",
    "pert2_share = np.asarray(poisson_shared.sample().detach().cpu())\n",
    "pert2 = pert2_basal + pert2_pert + pert2_share"
   ]
  },
  {
   "cell_type": "code",
   "execution_count": null,
   "id": "2e734350-3e6b-4147-ac14-f3557cc7f994",
   "metadata": {},
   "outputs": [],
   "source": []
  },
  {
   "cell_type": "markdown",
   "id": "2ccf9530-90bd-44a8-a437-b5a8117ffdb6",
   "metadata": {},
   "source": [
    "### Run code of simulation case above individually and create anndata below"
   ]
  },
  {
   "cell_type": "code",
   "execution_count": 21,
   "id": "37208b2e-240a-48dc-874f-3812d5e7267c",
   "metadata": {},
   "outputs": [],
   "source": [
    "control = sc.AnnData(X=cont)\n",
    "control.obs['State']='A'\n",
    "control.obs['Pseudotime']=ptime\n",
    "control.obs['Condition']=\"Control\"\n",
    "\n",
    "control.layers['Basal']=control.X\n",
    "control.layers['Pert']=np.zeros_like(control.X) # control.X #\n",
    "control.layers['Share']=np.zeros_like(control.X) # control.X #"
   ]
  },
  {
   "cell_type": "code",
   "execution_count": 22,
   "id": "f51e8692-ca35-48c6-926d-218017f4be72",
   "metadata": {},
   "outputs": [],
   "source": [
    "perturb1 = sc.AnnData(X=pert1)\n",
    "perturb1.obs['State']='A'\n",
    "perturb1.obs['Pseudotime']=ptime\n",
    "perturb1.obs['Condition']=\"Perturbation1\"\n",
    "\n",
    "perturb1.layers['Basal']=pert1_basal\n",
    "perturb1.layers['Pert']=pert1_pert\n",
    "# perturb1.layers['Share']=pert1_share"
   ]
  },
  {
   "cell_type": "code",
   "execution_count": 23,
   "id": "afd3ee51-cafa-4ab8-a387-f7d44284284f",
   "metadata": {},
   "outputs": [],
   "source": [
    "perturb2 = sc.AnnData(X=pert2)\n",
    "perturb2.obs['State']='A'\n",
    "perturb2.obs['Pseudotime']=ptime\n",
    "perturb2.obs['Condition']=\"Perturbation2\"\n",
    "\n",
    "\n",
    "perturb2.layers['Basal']=pert2_basal\n",
    "perturb2.layers['Pert']=pert2_pert\n",
    "# perturb2.layers['Share']=pert2_share"
   ]
  },
  {
   "cell_type": "code",
   "execution_count": 24,
   "id": "76ef2f8a-9a18-4c12-8af4-436dcc318fe0",
   "metadata": {},
   "outputs": [],
   "source": [
    "sim = control.concatenate(perturb1,perturb2)\n",
    "sim.write(\"../data/simulation_data.h5ad\")"
   ]
  },
  {
   "cell_type": "code",
   "execution_count": null,
   "id": "fc075c0f-1a08-4063-af5f-027afbb37944",
   "metadata": {},
   "outputs": [],
   "source": []
  }
 ],
 "metadata": {
  "environment": {
   "kernel": "cellcap",
   "name": "common-cu113.m112",
   "type": "gcloud",
   "uri": "gcr.io/deeplearning-platform-release/base-cu113:m112"
  },
  "kernelspec": {
   "display_name": "cellcap",
   "language": "python",
   "name": "cellcap"
  },
  "language_info": {
   "codemirror_mode": {
    "name": "ipython",
    "version": 3
   },
   "file_extension": ".py",
   "mimetype": "text/x-python",
   "name": "python",
   "nbconvert_exporter": "python",
   "pygments_lexer": "ipython3",
   "version": "3.10.13"
  }
 },
 "nbformat": 4,
 "nbformat_minor": 5
}
